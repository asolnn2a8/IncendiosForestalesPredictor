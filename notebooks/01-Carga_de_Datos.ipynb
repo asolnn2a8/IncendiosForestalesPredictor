{
 "cells": [
  {
   "cell_type": "markdown",
   "metadata": {},
   "source": [
    "# Carga de Datos"
   ]
  },
  {
   "cell_type": "markdown",
   "metadata": {},
   "source": [
    "## Importación de librerías"
   ]
  },
  {
   "cell_type": "code",
   "execution_count": 1,
   "metadata": {
    "ExecuteTime": {
     "end_time": "2020-07-11T00:20:42.482719Z",
     "start_time": "2020-07-11T00:20:41.821417Z"
    }
   },
   "outputs": [],
   "source": [
    "import os.path\n",
    "import pandas as pd\n",
    "import sqlite3"
   ]
  },
  {
   "cell_type": "markdown",
   "metadata": {},
   "source": [
    "## Constantes"
   ]
  },
  {
   "cell_type": "markdown",
   "metadata": {},
   "source": [
    "Rutas usuales que se ocuparán en el notebook"
   ]
  },
  {
   "cell_type": "code",
   "execution_count": 2,
   "metadata": {
    "ExecuteTime": {
     "end_time": "2020-07-11T00:20:42.489528Z",
     "start_time": "2020-07-11T00:20:42.483807Z"
    }
   },
   "outputs": [],
   "source": [
    "# Salvar DataFrame?\n",
    "save_df = False\n",
    "\n",
    "# RUTAS\n",
    "DATA_PATH = os.path.join(\"..\", \"data\")\n",
    "WF_FOLDER_PATH = os.path.join(DATA_PATH, \"wildfires_us\")\n",
    "WF_DATA_PATH = os.path.join(WF_FOLDER_PATH, \"FPA_FOD_20170508.sqlite\")\n",
    "WF_DATA_COLUMNS_PATH = os.path.join(WF_FOLDER_PATH, \"COLUMNS\")"
   ]
  },
  {
   "cell_type": "markdown",
   "metadata": {},
   "source": [
    "## Funciones auxiliares"
   ]
  },
  {
   "cell_type": "markdown",
   "metadata": {},
   "source": [
    "Función que se ocupará en la carga de datos."
   ]
  },
  {
   "cell_type": "code",
   "execution_count": 3,
   "metadata": {
    "ExecuteTime": {
     "end_time": "2020-07-11T00:20:42.500536Z",
     "start_time": "2020-07-11T00:20:42.491529Z"
    },
    "code_folding": []
   },
   "outputs": [],
   "source": [
    "def crear_puntero(path=WF_DATA_PATH, msg=False):\n",
    "    \"\"\"Función que crea un puntero con el dataset de incendios forestales en US.\n",
    "    \"\"\"\n",
    "    try:\n",
    "        conn = sqlite3.connect(path)\n",
    "        if msg:\n",
    "            print(\"Conexión realizada con éxito.\")\n",
    "    except:\n",
    "        if msg:\n",
    "            print(\"No se encuentra el archivo.\")\n",
    "    return conn"
   ]
  },
  {
   "cell_type": "markdown",
   "metadata": {},
   "source": [
    "Función que se ocupará para imprimir la información (número de filas y columnas) de un DataFrame."
   ]
  },
  {
   "cell_type": "code",
   "execution_count": 4,
   "metadata": {
    "ExecuteTime": {
     "end_time": "2020-07-11T00:20:42.512465Z",
     "start_time": "2020-07-11T00:20:42.503490Z"
    },
    "code_folding": []
   },
   "outputs": [],
   "source": [
    "def print_cantidad(dataframe):\n",
    "    \"\"\"Imprime la cantidad de datos que tiene el Data Frame.\n",
    "    \"\"\"\n",
    "    msg_cantidad = \"El dataset tiene una cantidad de {} datos y {} variables.\"\n",
    "    print(msg_cantidad.format(dataframe.shape[0], dataframe.shape[1]))\n",
    "    return None"
   ]
  },
  {
   "cell_type": "markdown",
   "metadata": {},
   "source": [
    "Función que se ocupará para crear una columna extra en el dataset"
   ]
  },
  {
   "cell_type": "code",
   "execution_count": 5,
   "metadata": {
    "ExecuteTime": {
     "end_time": "2020-07-11T00:20:42.549378Z",
     "start_time": "2020-07-11T00:20:42.514462Z"
    },
    "code_folding": []
   },
   "outputs": [],
   "source": [
    "def generar_datetime(fecha_col, hora_col):\n",
    "    \"\"\"Recibe un DataFrame 'df', una columna 'fecha_col' que tiene \n",
    "    la fecha en formato de marca de tiempo (Timestamp) y una columna \n",
    "    'hora_col' que tiene la hora en formato 'hhmm'.\n",
    "\n",
    "    Retorna una columna del tipo 'Series', de datos del tipo datetime,\n",
    "    con la fecha y hora juntas.\n",
    "    \"\"\"\n",
    "\n",
    "    # Transformamos la columna de fechas a la fecha \"usual\"\n",
    "    fecha_col_ = pd.to_datetime(fecha_col - pd.Timestamp(0).to_julian_date(),\n",
    "                                unit='D',\n",
    "                                dayfirst=True)\n",
    "    \n",
    "    # Obtenemos solo la parte de la fecha como una columna de str\n",
    "    fecha_col_ = fecha_col_.map(lambda x: str(x).split()[0])\n",
    "\n",
    "    # Procesamos la columna de la hora para que esté en formato \"hh:mm:ss\"\n",
    "    hora_col_ = hora_col.map(lambda x: \":\".join([\" \" + x[0:2], x[2:4], \"00\"]))\n",
    "\n",
    "    # Retornamos la suma de ambas, en formato de datetime\n",
    "    return pd.to_datetime(fecha_col_ + hora_col_)"
   ]
  },
  {
   "cell_type": "markdown",
   "metadata": {},
   "source": [
    "## Carga de datos"
   ]
  },
  {
   "cell_type": "markdown",
   "metadata": {},
   "source": [
    "### Columnas a ocupar\n",
    "\n",
    "Se escojen las columnas a ocupar dependiendo de la importancia que tenga. Se omiten algunas columnas tales como las que son para el ID, como el nombre que tuvo el incendio, o la columna que indica de dónde se obtuvo el incendio; pues no deberían de afectar a la predicción."
   ]
  },
  {
   "cell_type": "code",
   "execution_count": 6,
   "metadata": {
    "ExecuteTime": {
     "end_time": "2020-07-11T00:20:42.580284Z",
     "start_time": "2020-07-11T00:20:42.555397Z"
    },
    "code_folding": []
   },
   "outputs": [],
   "source": [
    "# Todas las columnas\n",
    "columnas = list(pd.read_csv(WF_DATA_COLUMNS_PATH))\n",
    "\n",
    "# Columnas que se ocuparán en el análisis\n",
    "columnas_ocupadas = [\n",
    "    \"FIRE_YEAR\",        # Año en que el incendio fue descubierto o confirmado\n",
    "    \"DISCOVERY_DATE\",   # Fecha en que fue descubiertoel incendio\n",
    "    \"DISCOVERY_TIME\",   # Hora en que fue descubierto el incendio\n",
    "    \"STAT_CAUSE_DESCR\", # Descripción de la causa del incendio\n",
    "    \"CONT_DATE\",        # Fecha en que se contuvo el incendio\n",
    "    \"CONT_TIME\",        # Hora en que se contuvo el incendio\n",
    "    \"FIRE_SIZE\",        # Área final estimada que alcanzó el incendio\n",
    "    \"FIRE_SIZE_CLASS\",\n",
    "    \"LATITUDE\",         # Latitud de la localización del incendio\n",
    "    \"LONGITUDE\",        # Longitud de la localización del incendio\n",
    "    \"STATE\",\n",
    "    \"COUNTY\",\n",
    "    \"FIPS_NAME\",\n",
    "]\n",
    "\n",
    "# Columnas que no se ocuparán\n",
    "columnas_sin_ocupar = [x for x in columnas if x not in columnas_ocupadas]"
   ]
  },
  {
   "cell_type": "markdown",
   "metadata": {},
   "source": [
    "### Carga de Datos"
   ]
  },
  {
   "cell_type": "code",
   "execution_count": 7,
   "metadata": {
    "ExecuteTime": {
     "end_time": "2020-07-11T00:20:55.965899Z",
     "start_time": "2020-07-11T00:20:42.583276Z"
    },
    "scrolled": true
   },
   "outputs": [
    {
     "name": "stdout",
     "output_type": "stream",
     "text": [
      "Conexión realizada con éxito.\n",
      "El dataset tiene una cantidad de 1880465 datos y 13 variables.\n"
     ]
    },
    {
     "data": {
      "text/html": [
       "<div>\n",
       "<style scoped>\n",
       "    .dataframe tbody tr th:only-of-type {\n",
       "        vertical-align: middle;\n",
       "    }\n",
       "\n",
       "    .dataframe tbody tr th {\n",
       "        vertical-align: top;\n",
       "    }\n",
       "\n",
       "    .dataframe thead th {\n",
       "        text-align: right;\n",
       "    }\n",
       "</style>\n",
       "<table border=\"1\" class=\"dataframe\">\n",
       "  <thead>\n",
       "    <tr style=\"text-align: right;\">\n",
       "      <th></th>\n",
       "      <th>FIRE_YEAR</th>\n",
       "      <th>DISCOVERY_DATE</th>\n",
       "      <th>DISCOVERY_TIME</th>\n",
       "      <th>STAT_CAUSE_DESCR</th>\n",
       "      <th>CONT_DATE</th>\n",
       "      <th>CONT_TIME</th>\n",
       "      <th>FIRE_SIZE</th>\n",
       "      <th>FIRE_SIZE_CLASS</th>\n",
       "      <th>LATITUDE</th>\n",
       "      <th>LONGITUDE</th>\n",
       "      <th>STATE</th>\n",
       "      <th>COUNTY</th>\n",
       "      <th>FIPS_NAME</th>\n",
       "    </tr>\n",
       "  </thead>\n",
       "  <tbody>\n",
       "    <tr>\n",
       "      <th>0</th>\n",
       "      <td>2005</td>\n",
       "      <td>2453403.5</td>\n",
       "      <td>1300</td>\n",
       "      <td>Miscellaneous</td>\n",
       "      <td>2453403.5</td>\n",
       "      <td>1730</td>\n",
       "      <td>0.10</td>\n",
       "      <td>A</td>\n",
       "      <td>40.036944</td>\n",
       "      <td>-121.005833</td>\n",
       "      <td>CA</td>\n",
       "      <td>63</td>\n",
       "      <td>Plumas</td>\n",
       "    </tr>\n",
       "    <tr>\n",
       "      <th>1</th>\n",
       "      <td>2004</td>\n",
       "      <td>2453137.5</td>\n",
       "      <td>0845</td>\n",
       "      <td>Lightning</td>\n",
       "      <td>2453137.5</td>\n",
       "      <td>1530</td>\n",
       "      <td>0.25</td>\n",
       "      <td>A</td>\n",
       "      <td>38.933056</td>\n",
       "      <td>-120.404444</td>\n",
       "      <td>CA</td>\n",
       "      <td>61</td>\n",
       "      <td>Placer</td>\n",
       "    </tr>\n",
       "    <tr>\n",
       "      <th>2</th>\n",
       "      <td>2004</td>\n",
       "      <td>2453156.5</td>\n",
       "      <td>1921</td>\n",
       "      <td>Debris Burning</td>\n",
       "      <td>2453156.5</td>\n",
       "      <td>2024</td>\n",
       "      <td>0.10</td>\n",
       "      <td>A</td>\n",
       "      <td>38.984167</td>\n",
       "      <td>-120.735556</td>\n",
       "      <td>CA</td>\n",
       "      <td>17</td>\n",
       "      <td>El Dorado</td>\n",
       "    </tr>\n",
       "    <tr>\n",
       "      <th>3</th>\n",
       "      <td>2004</td>\n",
       "      <td>2453184.5</td>\n",
       "      <td>1600</td>\n",
       "      <td>Lightning</td>\n",
       "      <td>2453189.5</td>\n",
       "      <td>1400</td>\n",
       "      <td>0.10</td>\n",
       "      <td>A</td>\n",
       "      <td>38.559167</td>\n",
       "      <td>-119.913333</td>\n",
       "      <td>CA</td>\n",
       "      <td>3</td>\n",
       "      <td>Alpine</td>\n",
       "    </tr>\n",
       "    <tr>\n",
       "      <th>4</th>\n",
       "      <td>2004</td>\n",
       "      <td>2453184.5</td>\n",
       "      <td>1600</td>\n",
       "      <td>Lightning</td>\n",
       "      <td>2453189.5</td>\n",
       "      <td>1200</td>\n",
       "      <td>0.10</td>\n",
       "      <td>A</td>\n",
       "      <td>38.559167</td>\n",
       "      <td>-119.933056</td>\n",
       "      <td>CA</td>\n",
       "      <td>3</td>\n",
       "      <td>Alpine</td>\n",
       "    </tr>\n",
       "  </tbody>\n",
       "</table>\n",
       "</div>"
      ],
      "text/plain": [
       "   FIRE_YEAR  DISCOVERY_DATE DISCOVERY_TIME STAT_CAUSE_DESCR  CONT_DATE  \\\n",
       "0       2005       2453403.5           1300    Miscellaneous  2453403.5   \n",
       "1       2004       2453137.5           0845        Lightning  2453137.5   \n",
       "2       2004       2453156.5           1921   Debris Burning  2453156.5   \n",
       "3       2004       2453184.5           1600        Lightning  2453189.5   \n",
       "4       2004       2453184.5           1600        Lightning  2453189.5   \n",
       "\n",
       "  CONT_TIME  FIRE_SIZE FIRE_SIZE_CLASS   LATITUDE   LONGITUDE STATE COUNTY  \\\n",
       "0      1730       0.10               A  40.036944 -121.005833    CA     63   \n",
       "1      1530       0.25               A  38.933056 -120.404444    CA     61   \n",
       "2      2024       0.10               A  38.984167 -120.735556    CA     17   \n",
       "3      1400       0.10               A  38.559167 -119.913333    CA      3   \n",
       "4      1200       0.10               A  38.559167 -119.933056    CA      3   \n",
       "\n",
       "   FIPS_NAME  \n",
       "0     Plumas  \n",
       "1     Placer  \n",
       "2  El Dorado  \n",
       "3     Alpine  \n",
       "4     Alpine  "
      ]
     },
     "execution_count": 7,
     "metadata": {},
     "output_type": "execute_result"
    }
   ],
   "source": [
    "# str que se ocupará al cargar los datos\n",
    "columnas_str = \",\".join(columnas_ocupadas)\n",
    "\n",
    "# Obtener una fila del dataset\n",
    "conn = crear_puntero(msg=True)\n",
    "df = pd.read_sql_query(f\"SELECT {columnas_str} FROM 'Fires'\", conn)\n",
    "conn.close()\n",
    "\n",
    "del columnas_str, conn\n",
    "\n",
    "print_cantidad(df)\n",
    "\n",
    "df.head()"
   ]
  },
  {
   "cell_type": "markdown",
   "metadata": {},
   "source": [
    "## Descripción preliminar de los datos"
   ]
  },
  {
   "cell_type": "markdown",
   "metadata": {},
   "source": [
    "### Manejo de valores nulos"
   ]
  },
  {
   "cell_type": "markdown",
   "metadata": {},
   "source": [
    "Observemos la información actual del df"
   ]
  },
  {
   "cell_type": "code",
   "execution_count": 8,
   "metadata": {
    "ExecuteTime": {
     "end_time": "2020-07-11T00:20:55.977336Z",
     "start_time": "2020-07-11T00:20:55.967894Z"
    },
    "scrolled": true
   },
   "outputs": [
    {
     "name": "stdout",
     "output_type": "stream",
     "text": [
      "<class 'pandas.core.frame.DataFrame'>\n",
      "RangeIndex: 1880465 entries, 0 to 1880464\n",
      "Data columns (total 13 columns):\n",
      " #   Column            Dtype  \n",
      "---  ------            -----  \n",
      " 0   FIRE_YEAR         int64  \n",
      " 1   DISCOVERY_DATE    float64\n",
      " 2   DISCOVERY_TIME    object \n",
      " 3   STAT_CAUSE_DESCR  object \n",
      " 4   CONT_DATE         float64\n",
      " 5   CONT_TIME         object \n",
      " 6   FIRE_SIZE         float64\n",
      " 7   FIRE_SIZE_CLASS   object \n",
      " 8   LATITUDE          float64\n",
      " 9   LONGITUDE         float64\n",
      " 10  STATE             object \n",
      " 11  COUNTY            object \n",
      " 12  FIPS_NAME         object \n",
      "dtypes: float64(5), int64(1), object(7)\n",
      "memory usage: 186.5+ MB\n"
     ]
    }
   ],
   "source": [
    "df.info(verbose=True)"
   ]
  },
  {
   "cell_type": "markdown",
   "metadata": {},
   "source": [
    "Primero observamos el número de elementos nulos que tiene el dataset."
   ]
  },
  {
   "cell_type": "code",
   "execution_count": 9,
   "metadata": {
    "ExecuteTime": {
     "end_time": "2020-07-11T00:20:56.664830Z",
     "start_time": "2020-07-11T00:20:55.978866Z"
    },
    "scrolled": true
   },
   "outputs": [
    {
     "data": {
      "text/plain": [
       "FIRE_YEAR                0\n",
       "DISCOVERY_DATE           0\n",
       "DISCOVERY_TIME      882638\n",
       "STAT_CAUSE_DESCR         0\n",
       "CONT_DATE           891531\n",
       "CONT_TIME           972173\n",
       "FIRE_SIZE                0\n",
       "FIRE_SIZE_CLASS          0\n",
       "LATITUDE                 0\n",
       "LONGITUDE                0\n",
       "STATE                    0\n",
       "COUNTY              678148\n",
       "FIPS_NAME           678148\n",
       "dtype: int64"
      ]
     },
     "execution_count": 9,
     "metadata": {},
     "output_type": "execute_result"
    }
   ],
   "source": [
    "df.isna().sum()"
   ]
  },
  {
   "cell_type": "markdown",
   "metadata": {},
   "source": [
    "Dado al gran tamaño de la base de datos, nos podemos dar \"el lujo\" de eliminar las filas que contengan elementos nulos."
   ]
  },
  {
   "cell_type": "code",
   "execution_count": 10,
   "metadata": {
    "ExecuteTime": {
     "end_time": "2020-07-11T00:20:57.724889Z",
     "start_time": "2020-07-11T00:20:56.666792Z"
    },
    "scrolled": true
   },
   "outputs": [
    {
     "name": "stdout",
     "output_type": "stream",
     "text": [
      "El dataset tiene una cantidad de 581159 datos y 13 variables.\n"
     ]
    },
    {
     "data": {
      "text/plain": [
       "FIRE_YEAR           0\n",
       "DISCOVERY_DATE      0\n",
       "DISCOVERY_TIME      0\n",
       "STAT_CAUSE_DESCR    0\n",
       "CONT_DATE           0\n",
       "CONT_TIME           0\n",
       "FIRE_SIZE           0\n",
       "FIRE_SIZE_CLASS     0\n",
       "LATITUDE            0\n",
       "LONGITUDE           0\n",
       "STATE               0\n",
       "COUNTY              0\n",
       "FIPS_NAME           0\n",
       "dtype: int64"
      ]
     },
     "execution_count": 10,
     "metadata": {},
     "output_type": "execute_result"
    }
   ],
   "source": [
    "# Se quitan los valores nulos\n",
    "df.dropna(inplace=True)\n",
    "\n",
    "# Se resetean los índices\n",
    "df.reset_index(drop=True, inplace=True)\n",
    "\n",
    "# Se imprime la cantidad\n",
    "print_cantidad(df)\n",
    "\n",
    "# Y se muestran la cantidad de nulos que tiene actualmente\n",
    "df.isna().sum()"
   ]
  },
  {
   "cell_type": "markdown",
   "metadata": {},
   "source": [
    "Ahora revisamos el tipo de datos que tiene el Data Frame"
   ]
  },
  {
   "cell_type": "code",
   "execution_count": 11,
   "metadata": {
    "ExecuteTime": {
     "end_time": "2020-07-11T00:20:58.025086Z",
     "start_time": "2020-07-11T00:20:57.726886Z"
    },
    "scrolled": false
   },
   "outputs": [
    {
     "name": "stdout",
     "output_type": "stream",
     "text": [
      "<class 'pandas.core.frame.DataFrame'>\n",
      "RangeIndex: 581159 entries, 0 to 581158\n",
      "Data columns (total 13 columns):\n",
      " #   Column            Non-Null Count   Dtype  \n",
      "---  ------            --------------   -----  \n",
      " 0   FIRE_YEAR         581159 non-null  int64  \n",
      " 1   DISCOVERY_DATE    581159 non-null  float64\n",
      " 2   DISCOVERY_TIME    581159 non-null  object \n",
      " 3   STAT_CAUSE_DESCR  581159 non-null  object \n",
      " 4   CONT_DATE         581159 non-null  float64\n",
      " 5   CONT_TIME         581159 non-null  object \n",
      " 6   FIRE_SIZE         581159 non-null  float64\n",
      " 7   FIRE_SIZE_CLASS   581159 non-null  object \n",
      " 8   LATITUDE          581159 non-null  float64\n",
      " 9   LONGITUDE         581159 non-null  float64\n",
      " 10  STATE             581159 non-null  object \n",
      " 11  COUNTY            581159 non-null  object \n",
      " 12  FIPS_NAME         581159 non-null  object \n",
      "dtypes: float64(5), int64(1), object(7)\n",
      "memory usage: 57.6+ MB\n"
     ]
    }
   ],
   "source": [
    "df.info()"
   ]
  },
  {
   "cell_type": "markdown",
   "metadata": {},
   "source": [
    "### Manejo de las variables de tiempo"
   ]
  },
  {
   "cell_type": "markdown",
   "metadata": {},
   "source": [
    "Notemos que `{DISCOVERY,CONT}_DATE` está en formato timestamp, y que `{DISCOVERY,CONT}_TIME` está en formato `'hhmm'`:"
   ]
  },
  {
   "cell_type": "code",
   "execution_count": 12,
   "metadata": {
    "ExecuteTime": {
     "end_time": "2020-07-11T00:20:58.097898Z",
     "start_time": "2020-07-11T00:20:58.027081Z"
    }
   },
   "outputs": [
    {
     "data": {
      "text/html": [
       "<div>\n",
       "<style scoped>\n",
       "    .dataframe tbody tr th:only-of-type {\n",
       "        vertical-align: middle;\n",
       "    }\n",
       "\n",
       "    .dataframe tbody tr th {\n",
       "        vertical-align: top;\n",
       "    }\n",
       "\n",
       "    .dataframe thead th {\n",
       "        text-align: right;\n",
       "    }\n",
       "</style>\n",
       "<table border=\"1\" class=\"dataframe\">\n",
       "  <thead>\n",
       "    <tr style=\"text-align: right;\">\n",
       "      <th></th>\n",
       "      <th>DISCOVERY_DATE</th>\n",
       "      <th>DISCOVERY_TIME</th>\n",
       "      <th>CONT_DATE</th>\n",
       "      <th>CONT_TIME</th>\n",
       "    </tr>\n",
       "  </thead>\n",
       "  <tbody>\n",
       "    <tr>\n",
       "      <th>0</th>\n",
       "      <td>2453403.5</td>\n",
       "      <td>1300</td>\n",
       "      <td>2453403.5</td>\n",
       "      <td>1730</td>\n",
       "    </tr>\n",
       "    <tr>\n",
       "      <th>1</th>\n",
       "      <td>2453137.5</td>\n",
       "      <td>0845</td>\n",
       "      <td>2453137.5</td>\n",
       "      <td>1530</td>\n",
       "    </tr>\n",
       "    <tr>\n",
       "      <th>2</th>\n",
       "      <td>2453156.5</td>\n",
       "      <td>1921</td>\n",
       "      <td>2453156.5</td>\n",
       "      <td>2024</td>\n",
       "    </tr>\n",
       "    <tr>\n",
       "      <th>3</th>\n",
       "      <td>2453184.5</td>\n",
       "      <td>1600</td>\n",
       "      <td>2453189.5</td>\n",
       "      <td>1400</td>\n",
       "    </tr>\n",
       "    <tr>\n",
       "      <th>4</th>\n",
       "      <td>2453184.5</td>\n",
       "      <td>1600</td>\n",
       "      <td>2453189.5</td>\n",
       "      <td>1200</td>\n",
       "    </tr>\n",
       "  </tbody>\n",
       "</table>\n",
       "</div>"
      ],
      "text/plain": [
       "   DISCOVERY_DATE DISCOVERY_TIME  CONT_DATE CONT_TIME\n",
       "0       2453403.5           1300  2453403.5      1730\n",
       "1       2453137.5           0845  2453137.5      1530\n",
       "2       2453156.5           1921  2453156.5      2024\n",
       "3       2453184.5           1600  2453189.5      1400\n",
       "4       2453184.5           1600  2453189.5      1200"
      ]
     },
     "execution_count": 12,
     "metadata": {},
     "output_type": "execute_result"
    }
   ],
   "source": [
    "cols_aux = [\"DISCOVERY_DATE\", \"DISCOVERY_TIME\", \n",
    "            \"CONT_DATE\", \"CONT_TIME\"]\n",
    "\n",
    "df[cols_aux].head()"
   ]
  },
  {
   "cell_type": "markdown",
   "metadata": {},
   "source": [
    "Generamos una nueva columna que tenga la fecha y hora contenida. Pues la fecha está en formato Timestamp y la hora está en formato `'hhmm'`. Lo hacemos para los prefijos `'DISCOVERY_'` y `'CONT_'`."
   ]
  },
  {
   "cell_type": "code",
   "execution_count": 13,
   "metadata": {
    "ExecuteTime": {
     "end_time": "2020-07-11T00:21:06.683133Z",
     "start_time": "2020-07-11T00:20:58.102889Z"
    }
   },
   "outputs": [
    {
     "data": {
      "text/html": [
       "<div>\n",
       "<style scoped>\n",
       "    .dataframe tbody tr th:only-of-type {\n",
       "        vertical-align: middle;\n",
       "    }\n",
       "\n",
       "    .dataframe tbody tr th {\n",
       "        vertical-align: top;\n",
       "    }\n",
       "\n",
       "    .dataframe thead th {\n",
       "        text-align: right;\n",
       "    }\n",
       "</style>\n",
       "<table border=\"1\" class=\"dataframe\">\n",
       "  <thead>\n",
       "    <tr style=\"text-align: right;\">\n",
       "      <th></th>\n",
       "      <th>DISCOVERY_DATE_TIME</th>\n",
       "      <th>CONT_DATE_TIME</th>\n",
       "    </tr>\n",
       "  </thead>\n",
       "  <tbody>\n",
       "    <tr>\n",
       "      <th>0</th>\n",
       "      <td>2005-02-02 13:00:00</td>\n",
       "      <td>2005-02-02 17:30:00</td>\n",
       "    </tr>\n",
       "    <tr>\n",
       "      <th>1</th>\n",
       "      <td>2004-05-12 08:45:00</td>\n",
       "      <td>2004-05-12 15:30:00</td>\n",
       "    </tr>\n",
       "    <tr>\n",
       "      <th>2</th>\n",
       "      <td>2004-05-31 19:21:00</td>\n",
       "      <td>2004-05-31 20:24:00</td>\n",
       "    </tr>\n",
       "    <tr>\n",
       "      <th>3</th>\n",
       "      <td>2004-06-28 16:00:00</td>\n",
       "      <td>2004-07-03 14:00:00</td>\n",
       "    </tr>\n",
       "    <tr>\n",
       "      <th>4</th>\n",
       "      <td>2004-06-28 16:00:00</td>\n",
       "      <td>2004-07-03 12:00:00</td>\n",
       "    </tr>\n",
       "  </tbody>\n",
       "</table>\n",
       "</div>"
      ],
      "text/plain": [
       "  DISCOVERY_DATE_TIME      CONT_DATE_TIME\n",
       "0 2005-02-02 13:00:00 2005-02-02 17:30:00\n",
       "1 2004-05-12 08:45:00 2004-05-12 15:30:00\n",
       "2 2004-05-31 19:21:00 2004-05-31 20:24:00\n",
       "3 2004-06-28 16:00:00 2004-07-03 14:00:00\n",
       "4 2004-06-28 16:00:00 2004-07-03 12:00:00"
      ]
     },
     "execution_count": 13,
     "metadata": {},
     "output_type": "execute_result"
    }
   ],
   "source": [
    "# Creamos nuevas columnas\n",
    "df[\"DISCOVERY_DATE_TIME\"] = generar_datetime(df[\"DISCOVERY_DATE\"],\n",
    "                                             df[\"DISCOVERY_TIME\"])\n",
    "df[\"CONT_DATE_TIME\"] = generar_datetime(df[\"CONT_DATE\"],\n",
    "                                        df[\"CONT_TIME\"])\n",
    "\n",
    "# Agregamos estas nuevas columnas al conjunto de columnas\n",
    "nuevas_cols = [\"DISCOVERY_DATE_TIME\", \"CONT_DATE_TIME\"]\n",
    "columnas += nuevas_cols\n",
    "columnas_ocupadas += nuevas_cols\n",
    "\n",
    "df[nuevas_cols].head()"
   ]
  },
  {
   "cell_type": "markdown",
   "metadata": {},
   "source": [
    "Quitamos ahora las columnas que resultan redundantes, al tener la misma información de los que tiene prefijo `_DATE_TIME`: \n",
    "* `DISCOVERY_DATE`, `DISCOVERY_TIME`.\n",
    "* `CONT_DATE`, `CONT_TIME`."
   ]
  },
  {
   "cell_type": "code",
   "execution_count": 14,
   "metadata": {
    "ExecuteTime": {
     "end_time": "2020-07-11T00:21:06.915100Z",
     "start_time": "2020-07-11T00:21:06.684131Z"
    },
    "scrolled": true
   },
   "outputs": [
    {
     "name": "stdout",
     "output_type": "stream",
     "text": [
      "El dataset tiene una cantidad de 581159 datos y 11 variables.\n"
     ]
    },
    {
     "data": {
      "text/html": [
       "<div>\n",
       "<style scoped>\n",
       "    .dataframe tbody tr th:only-of-type {\n",
       "        vertical-align: middle;\n",
       "    }\n",
       "\n",
       "    .dataframe tbody tr th {\n",
       "        vertical-align: top;\n",
       "    }\n",
       "\n",
       "    .dataframe thead th {\n",
       "        text-align: right;\n",
       "    }\n",
       "</style>\n",
       "<table border=\"1\" class=\"dataframe\">\n",
       "  <thead>\n",
       "    <tr style=\"text-align: right;\">\n",
       "      <th></th>\n",
       "      <th>FIRE_YEAR</th>\n",
       "      <th>STAT_CAUSE_DESCR</th>\n",
       "      <th>FIRE_SIZE</th>\n",
       "      <th>FIRE_SIZE_CLASS</th>\n",
       "      <th>LATITUDE</th>\n",
       "      <th>LONGITUDE</th>\n",
       "      <th>STATE</th>\n",
       "      <th>COUNTY</th>\n",
       "      <th>FIPS_NAME</th>\n",
       "      <th>DISCOVERY_DATE_TIME</th>\n",
       "      <th>CONT_DATE_TIME</th>\n",
       "    </tr>\n",
       "  </thead>\n",
       "  <tbody>\n",
       "    <tr>\n",
       "      <th>0</th>\n",
       "      <td>2005</td>\n",
       "      <td>Miscellaneous</td>\n",
       "      <td>0.10</td>\n",
       "      <td>A</td>\n",
       "      <td>40.036944</td>\n",
       "      <td>-121.005833</td>\n",
       "      <td>CA</td>\n",
       "      <td>63</td>\n",
       "      <td>Plumas</td>\n",
       "      <td>2005-02-02 13:00:00</td>\n",
       "      <td>2005-02-02 17:30:00</td>\n",
       "    </tr>\n",
       "    <tr>\n",
       "      <th>1</th>\n",
       "      <td>2004</td>\n",
       "      <td>Lightning</td>\n",
       "      <td>0.25</td>\n",
       "      <td>A</td>\n",
       "      <td>38.933056</td>\n",
       "      <td>-120.404444</td>\n",
       "      <td>CA</td>\n",
       "      <td>61</td>\n",
       "      <td>Placer</td>\n",
       "      <td>2004-05-12 08:45:00</td>\n",
       "      <td>2004-05-12 15:30:00</td>\n",
       "    </tr>\n",
       "    <tr>\n",
       "      <th>2</th>\n",
       "      <td>2004</td>\n",
       "      <td>Debris Burning</td>\n",
       "      <td>0.10</td>\n",
       "      <td>A</td>\n",
       "      <td>38.984167</td>\n",
       "      <td>-120.735556</td>\n",
       "      <td>CA</td>\n",
       "      <td>17</td>\n",
       "      <td>El Dorado</td>\n",
       "      <td>2004-05-31 19:21:00</td>\n",
       "      <td>2004-05-31 20:24:00</td>\n",
       "    </tr>\n",
       "    <tr>\n",
       "      <th>3</th>\n",
       "      <td>2004</td>\n",
       "      <td>Lightning</td>\n",
       "      <td>0.10</td>\n",
       "      <td>A</td>\n",
       "      <td>38.559167</td>\n",
       "      <td>-119.913333</td>\n",
       "      <td>CA</td>\n",
       "      <td>3</td>\n",
       "      <td>Alpine</td>\n",
       "      <td>2004-06-28 16:00:00</td>\n",
       "      <td>2004-07-03 14:00:00</td>\n",
       "    </tr>\n",
       "    <tr>\n",
       "      <th>4</th>\n",
       "      <td>2004</td>\n",
       "      <td>Lightning</td>\n",
       "      <td>0.10</td>\n",
       "      <td>A</td>\n",
       "      <td>38.559167</td>\n",
       "      <td>-119.933056</td>\n",
       "      <td>CA</td>\n",
       "      <td>3</td>\n",
       "      <td>Alpine</td>\n",
       "      <td>2004-06-28 16:00:00</td>\n",
       "      <td>2004-07-03 12:00:00</td>\n",
       "    </tr>\n",
       "  </tbody>\n",
       "</table>\n",
       "</div>"
      ],
      "text/plain": [
       "   FIRE_YEAR STAT_CAUSE_DESCR  FIRE_SIZE FIRE_SIZE_CLASS   LATITUDE  \\\n",
       "0       2005    Miscellaneous       0.10               A  40.036944   \n",
       "1       2004        Lightning       0.25               A  38.933056   \n",
       "2       2004   Debris Burning       0.10               A  38.984167   \n",
       "3       2004        Lightning       0.10               A  38.559167   \n",
       "4       2004        Lightning       0.10               A  38.559167   \n",
       "\n",
       "    LONGITUDE STATE COUNTY  FIPS_NAME DISCOVERY_DATE_TIME      CONT_DATE_TIME  \n",
       "0 -121.005833    CA     63     Plumas 2005-02-02 13:00:00 2005-02-02 17:30:00  \n",
       "1 -120.404444    CA     61     Placer 2004-05-12 08:45:00 2004-05-12 15:30:00  \n",
       "2 -120.735556    CA     17  El Dorado 2004-05-31 19:21:00 2004-05-31 20:24:00  \n",
       "3 -119.913333    CA      3     Alpine 2004-06-28 16:00:00 2004-07-03 14:00:00  \n",
       "4 -119.933056    CA      3     Alpine 2004-06-28 16:00:00 2004-07-03 12:00:00  "
      ]
     },
     "execution_count": 14,
     "metadata": {},
     "output_type": "execute_result"
    }
   ],
   "source": [
    "for x in cols_aux:\n",
    "    columnas.remove(x)\n",
    "    columnas_ocupadas.remove(x)\n",
    "    columnas_sin_ocupar.append(x)\n",
    "\n",
    "del cols_aux, nuevas_cols\n",
    "    \n",
    "df = df[columnas_ocupadas]\n",
    "print_cantidad(df)\n",
    "df.head()"
   ]
  },
  {
   "cell_type": "markdown",
   "metadata": {},
   "source": [
    "Crearemos una columna de los meses y semanas, para ver si nos entrega información extra."
   ]
  },
  {
   "cell_type": "code",
   "execution_count": 15,
   "metadata": {
    "ExecuteTime": {
     "end_time": "2020-07-11T00:21:07.802051Z",
     "start_time": "2020-07-11T00:21:06.915100Z"
    }
   },
   "outputs": [
    {
     "data": {
      "text/html": [
       "<div>\n",
       "<style scoped>\n",
       "    .dataframe tbody tr th:only-of-type {\n",
       "        vertical-align: middle;\n",
       "    }\n",
       "\n",
       "    .dataframe tbody tr th {\n",
       "        vertical-align: top;\n",
       "    }\n",
       "\n",
       "    .dataframe thead th {\n",
       "        text-align: right;\n",
       "    }\n",
       "</style>\n",
       "<table border=\"1\" class=\"dataframe\">\n",
       "  <thead>\n",
       "    <tr style=\"text-align: right;\">\n",
       "      <th></th>\n",
       "      <th>FIRE_YEAR</th>\n",
       "      <th>STAT_CAUSE_DESCR</th>\n",
       "      <th>FIRE_SIZE</th>\n",
       "      <th>FIRE_SIZE_CLASS</th>\n",
       "      <th>LATITUDE</th>\n",
       "      <th>LONGITUDE</th>\n",
       "      <th>STATE</th>\n",
       "      <th>COUNTY</th>\n",
       "      <th>FIPS_NAME</th>\n",
       "      <th>DISCOVERY_DATE_TIME</th>\n",
       "      <th>DISCOVERY_MONTH</th>\n",
       "      <th>DISCOVERY_DAY_OF_WEEK</th>\n",
       "      <th>CONT_DATE_TIME</th>\n",
       "      <th>CONT_MONTH</th>\n",
       "      <th>CONT_DAY_OF_WEEK</th>\n",
       "    </tr>\n",
       "  </thead>\n",
       "  <tbody>\n",
       "    <tr>\n",
       "      <th>0</th>\n",
       "      <td>2005</td>\n",
       "      <td>Miscellaneous</td>\n",
       "      <td>0.10</td>\n",
       "      <td>A</td>\n",
       "      <td>40.036944</td>\n",
       "      <td>-121.005833</td>\n",
       "      <td>CA</td>\n",
       "      <td>63</td>\n",
       "      <td>Plumas</td>\n",
       "      <td>2005-02-02 13:00:00</td>\n",
       "      <td>2</td>\n",
       "      <td>Wednesday</td>\n",
       "      <td>2005-02-02 17:30:00</td>\n",
       "      <td>2</td>\n",
       "      <td>Wednesday</td>\n",
       "    </tr>\n",
       "    <tr>\n",
       "      <th>1</th>\n",
       "      <td>2004</td>\n",
       "      <td>Lightning</td>\n",
       "      <td>0.25</td>\n",
       "      <td>A</td>\n",
       "      <td>38.933056</td>\n",
       "      <td>-120.404444</td>\n",
       "      <td>CA</td>\n",
       "      <td>61</td>\n",
       "      <td>Placer</td>\n",
       "      <td>2004-05-12 08:45:00</td>\n",
       "      <td>5</td>\n",
       "      <td>Wednesday</td>\n",
       "      <td>2004-05-12 15:30:00</td>\n",
       "      <td>5</td>\n",
       "      <td>Wednesday</td>\n",
       "    </tr>\n",
       "    <tr>\n",
       "      <th>2</th>\n",
       "      <td>2004</td>\n",
       "      <td>Debris Burning</td>\n",
       "      <td>0.10</td>\n",
       "      <td>A</td>\n",
       "      <td>38.984167</td>\n",
       "      <td>-120.735556</td>\n",
       "      <td>CA</td>\n",
       "      <td>17</td>\n",
       "      <td>El Dorado</td>\n",
       "      <td>2004-05-31 19:21:00</td>\n",
       "      <td>5</td>\n",
       "      <td>Monday</td>\n",
       "      <td>2004-05-31 20:24:00</td>\n",
       "      <td>5</td>\n",
       "      <td>Monday</td>\n",
       "    </tr>\n",
       "    <tr>\n",
       "      <th>3</th>\n",
       "      <td>2004</td>\n",
       "      <td>Lightning</td>\n",
       "      <td>0.10</td>\n",
       "      <td>A</td>\n",
       "      <td>38.559167</td>\n",
       "      <td>-119.913333</td>\n",
       "      <td>CA</td>\n",
       "      <td>3</td>\n",
       "      <td>Alpine</td>\n",
       "      <td>2004-06-28 16:00:00</td>\n",
       "      <td>6</td>\n",
       "      <td>Monday</td>\n",
       "      <td>2004-07-03 14:00:00</td>\n",
       "      <td>7</td>\n",
       "      <td>Saturday</td>\n",
       "    </tr>\n",
       "    <tr>\n",
       "      <th>4</th>\n",
       "      <td>2004</td>\n",
       "      <td>Lightning</td>\n",
       "      <td>0.10</td>\n",
       "      <td>A</td>\n",
       "      <td>38.559167</td>\n",
       "      <td>-119.933056</td>\n",
       "      <td>CA</td>\n",
       "      <td>3</td>\n",
       "      <td>Alpine</td>\n",
       "      <td>2004-06-28 16:00:00</td>\n",
       "      <td>6</td>\n",
       "      <td>Monday</td>\n",
       "      <td>2004-07-03 12:00:00</td>\n",
       "      <td>7</td>\n",
       "      <td>Saturday</td>\n",
       "    </tr>\n",
       "  </tbody>\n",
       "</table>\n",
       "</div>"
      ],
      "text/plain": [
       "   FIRE_YEAR STAT_CAUSE_DESCR  FIRE_SIZE FIRE_SIZE_CLASS   LATITUDE  \\\n",
       "0       2005    Miscellaneous       0.10               A  40.036944   \n",
       "1       2004        Lightning       0.25               A  38.933056   \n",
       "2       2004   Debris Burning       0.10               A  38.984167   \n",
       "3       2004        Lightning       0.10               A  38.559167   \n",
       "4       2004        Lightning       0.10               A  38.559167   \n",
       "\n",
       "    LONGITUDE STATE COUNTY  FIPS_NAME DISCOVERY_DATE_TIME  DISCOVERY_MONTH  \\\n",
       "0 -121.005833    CA     63     Plumas 2005-02-02 13:00:00                2   \n",
       "1 -120.404444    CA     61     Placer 2004-05-12 08:45:00                5   \n",
       "2 -120.735556    CA     17  El Dorado 2004-05-31 19:21:00                5   \n",
       "3 -119.913333    CA      3     Alpine 2004-06-28 16:00:00                6   \n",
       "4 -119.933056    CA      3     Alpine 2004-06-28 16:00:00                6   \n",
       "\n",
       "  DISCOVERY_DAY_OF_WEEK      CONT_DATE_TIME  CONT_MONTH CONT_DAY_OF_WEEK  \n",
       "0             Wednesday 2005-02-02 17:30:00           2        Wednesday  \n",
       "1             Wednesday 2004-05-12 15:30:00           5        Wednesday  \n",
       "2                Monday 2004-05-31 20:24:00           5           Monday  \n",
       "3                Monday 2004-07-03 14:00:00           7         Saturday  \n",
       "4                Monday 2004-07-03 12:00:00           7         Saturday  "
      ]
     },
     "execution_count": 15,
     "metadata": {},
     "output_type": "execute_result"
    }
   ],
   "source": [
    "# Creamos las columnas {DISCOVERY,CONT}_{MONTH,DAY_OF_WEEK}\n",
    "df[\"DISCOVERY_MONTH\"] = df[\"DISCOVERY_DATE_TIME\"].dt.month\n",
    "df[\"DISCOVERY_DAY_OF_WEEK\"] = df[\"DISCOVERY_DATE_TIME\"].dt.day_name()\n",
    "\n",
    "df[\"CONT_MONTH\"] = df[\"CONT_DATE_TIME\"].dt.month\n",
    "df[\"CONT_DAY_OF_WEEK\"] = df[\"CONT_DATE_TIME\"].dt.day_name()\n",
    "\n",
    "# Añadimos las nuevas columnas al conjunto de columnas\n",
    "cdt = columnas_ocupadas.pop(-1)\n",
    "columnas.pop(-1)\n",
    "cols_aux = [\"DISCOVERY_MONTH\", \"DISCOVERY_DAY_OF_WEEK\", \n",
    "            cdt, \"CONT_MONTH\", \"CONT_DAY_OF_WEEK\"]\n",
    "\n",
    "columnas.extend(cols_aux)\n",
    "columnas_ocupadas.extend(cols_aux)\n",
    "del cdt, cols_aux\n",
    "\n",
    "# Actualizamos el df\n",
    "df = df[columnas_ocupadas]\n",
    "\n",
    "df.head()"
   ]
  },
  {
   "cell_type": "code",
   "execution_count": 16,
   "metadata": {
    "ExecuteTime": {
     "end_time": "2020-07-11T00:21:08.097075Z",
     "start_time": "2020-07-11T00:21:07.803082Z"
    },
    "scrolled": false
   },
   "outputs": [
    {
     "name": "stdout",
     "output_type": "stream",
     "text": [
      "<class 'pandas.core.frame.DataFrame'>\n",
      "RangeIndex: 581159 entries, 0 to 581158\n",
      "Data columns (total 15 columns):\n",
      " #   Column                 Non-Null Count   Dtype         \n",
      "---  ------                 --------------   -----         \n",
      " 0   FIRE_YEAR              581159 non-null  int64         \n",
      " 1   STAT_CAUSE_DESCR       581159 non-null  object        \n",
      " 2   FIRE_SIZE              581159 non-null  float64       \n",
      " 3   FIRE_SIZE_CLASS        581159 non-null  object        \n",
      " 4   LATITUDE               581159 non-null  float64       \n",
      " 5   LONGITUDE              581159 non-null  float64       \n",
      " 6   STATE                  581159 non-null  object        \n",
      " 7   COUNTY                 581159 non-null  object        \n",
      " 8   FIPS_NAME              581159 non-null  object        \n",
      " 9   DISCOVERY_DATE_TIME    581159 non-null  datetime64[ns]\n",
      " 10  DISCOVERY_MONTH        581159 non-null  int64         \n",
      " 11  DISCOVERY_DAY_OF_WEEK  581159 non-null  object        \n",
      " 12  CONT_DATE_TIME         581159 non-null  datetime64[ns]\n",
      " 13  CONT_MONTH             581159 non-null  int64         \n",
      " 14  CONT_DAY_OF_WEEK       581159 non-null  object        \n",
      "dtypes: datetime64[ns](2), float64(3), int64(3), object(7)\n",
      "memory usage: 66.5+ MB\n"
     ]
    }
   ],
   "source": [
    "df.info()"
   ]
  },
  {
   "cell_type": "markdown",
   "metadata": {},
   "source": [
    "## Salvar DataFrame\n",
    "\n",
    "Salvamos el DataFrame en la carpeta respectiva."
   ]
  },
  {
   "cell_type": "code",
   "execution_count": 17,
   "metadata": {
    "ExecuteTime": {
     "end_time": "2020-07-11T00:21:08.108045Z",
     "start_time": "2020-07-11T00:21:08.100067Z"
    }
   },
   "outputs": [],
   "source": [
    "if save_df:\n",
    "    df.to_csv(os.path.join(WF_FOLDER_PATH, \"WILDFIRES_USA.csv\"), index=False)"
   ]
  }
 ],
 "metadata": {
  "kernelspec": {
   "display_name": "Python 3",
   "language": "python",
   "name": "python3"
  },
  "language_info": {
   "codemirror_mode": {
    "name": "ipython",
    "version": 3
   },
   "file_extension": ".py",
   "mimetype": "text/x-python",
   "name": "python",
   "nbconvert_exporter": "python",
   "pygments_lexer": "ipython3",
   "version": "3.7.3"
  },
  "toc": {
   "base_numbering": 1,
   "nav_menu": {},
   "number_sections": true,
   "sideBar": true,
   "skip_h1_title": false,
   "title_cell": "Table of Contents",
   "title_sidebar": "Contents",
   "toc_cell": false,
   "toc_position": {
    "height": "calc(100% - 180px)",
    "left": "10px",
    "top": "150px",
    "width": "256px"
   },
   "toc_section_display": true,
   "toc_window_display": true
  },
  "varInspector": {
   "cols": {
    "lenName": 16,
    "lenType": 16,
    "lenVar": 40
   },
   "kernels_config": {
    "python": {
     "delete_cmd_postfix": "",
     "delete_cmd_prefix": "del ",
     "library": "var_list.py",
     "varRefreshCmd": "print(var_dic_list())"
    },
    "r": {
     "delete_cmd_postfix": ") ",
     "delete_cmd_prefix": "rm(",
     "library": "var_list.r",
     "varRefreshCmd": "cat(var_dic_list()) "
    }
   },
   "oldHeight": 216.333666,
   "position": {
    "height": "237.667px",
    "left": "824px",
    "right": "20px",
    "top": "120px",
    "width": "350px"
   },
   "types_to_exclude": [
    "module",
    "function",
    "builtin_function_or_method",
    "instance",
    "_Feature"
   ],
   "varInspector_section_display": "block",
   "window_display": false
  }
 },
 "nbformat": 4,
 "nbformat_minor": 4
}
