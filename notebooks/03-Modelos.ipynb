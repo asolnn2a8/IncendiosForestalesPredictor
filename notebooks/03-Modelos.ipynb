{
 "cells": [
  {
   "cell_type": "markdown",
   "metadata": {},
   "source": [
    "# Modelos de Predicción"
   ]
  },
  {
   "cell_type": "markdown",
   "metadata": {},
   "source": [
    "## Importación de librerías"
   ]
  },
  {
   "cell_type": "code",
   "execution_count": 1,
   "metadata": {
    "ExecuteTime": {
     "end_time": "2020-07-13T17:26:53.635995Z",
     "start_time": "2020-07-13T17:26:52.267446Z"
    }
   },
   "outputs": [],
   "source": [
    "import os.path\n",
    "import pandas as pd\n",
    "import matplotlib.pyplot as plt\n",
    "from sklearn import preprocessing\n",
    "from sklearn.metrics import classification_report\n",
    "from sklearn.metrics import confusion_matrix"
   ]
  },
  {
   "cell_type": "markdown",
   "metadata": {},
   "source": [
    "## Constantes"
   ]
  },
  {
   "cell_type": "markdown",
   "metadata": {},
   "source": [
    "Rutas usuales que se ocuparán en el notebook"
   ]
  },
  {
   "cell_type": "code",
   "execution_count": 2,
   "metadata": {
    "ExecuteTime": {
     "end_time": "2020-07-13T17:26:53.643927Z",
     "start_time": "2020-07-13T17:26:53.637909Z"
    },
    "code_folding": [
     11,
     13,
     15
    ]
   },
   "outputs": [],
   "source": [
    "# Salvar gráficos\n",
    "save_graf = False\n",
    "\n",
    "# RUTAS\n",
    "MAIN_PATH = os.path.join(\"..\")\n",
    "\n",
    "IMG_PATH = os.path.join(MAIN_PATH, \"imagenes\")\n",
    "DATA_PATH = os.path.join(MAIN_PATH, \"data\")\n",
    "\n",
    "WF_FOLDER_PATH = os.path.join(DATA_PATH,\n",
    "                              \"wildfires_us\")\n",
    "WF_DATA_PATH = os.path.join(WF_FOLDER_PATH,\n",
    "                            \"WILDFIRES_USA.csv\")\n",
    "WF_DATA_COLUMNS_PATH = os.path.join(WF_FOLDER_PATH,\n",
    "                                    \"WILDFIRES_USA_COLUMNS.csv\")\n",
    "\n",
    "# Tamaño de la imagen\n",
    "my_figsize = (10, 5)"
   ]
  },
  {
   "cell_type": "markdown",
   "metadata": {},
   "source": [
    "## Funciones auxiliares"
   ]
  },
  {
   "cell_type": "markdown",
   "metadata": {},
   "source": [
    "Función que se ocupará para imprimir la información (número de filas y columnas) de un DataFrame."
   ]
  },
  {
   "cell_type": "code",
   "execution_count": 3,
   "metadata": {
    "ExecuteTime": {
     "end_time": "2020-07-13T17:26:53.664838Z",
     "start_time": "2020-07-13T17:26:53.648884Z"
    },
    "code_folding": [
     0
    ]
   },
   "outputs": [],
   "source": [
    "def print_cantidad(dataframe):\n",
    "    \"\"\"Imprime la cantidad de datos que tiene el Data Frame.\n",
    "    \"\"\"\n",
    "    msg_cantidad = \"El dataset tiene una cantidad de {} datos y {} variables.\"\n",
    "    print(msg_cantidad.format(dataframe.shape[0], dataframe.shape[1]))\n",
    "    return None"
   ]
  },
  {
   "cell_type": "markdown",
   "metadata": {},
   "source": [
    "## Carga de datos"
   ]
  },
  {
   "cell_type": "markdown",
   "metadata": {},
   "source": [
    "### Columnas a ocupar\n",
    "\n",
    "Se escojen las columnas a ocupar dependiendo de la importancia que tenga. Se omiten algunas columnas tales como las que son para el ID, como el nombre que tuvo el incendio, o la columna que indica de dónde se obtuvo el incendio; pues no deberían de afectar a la predicción."
   ]
  },
  {
   "cell_type": "code",
   "execution_count": 4,
   "metadata": {
    "ExecuteTime": {
     "end_time": "2020-07-13T17:26:53.685792Z",
     "start_time": "2020-07-13T17:26:53.669825Z"
    },
    "code_folding": []
   },
   "outputs": [],
   "source": [
    "# Todas las columnas\n",
    "columnas = str(pd.read_csv(WF_DATA_COLUMNS_PATH).columns[0]).split(\",\")\n",
    "\n",
    "# Columnas que se ocuparán en el análisis\n",
    "columnas_ocupadas = columnas.copy()\n",
    "\n",
    "# Columnas que no se ocuparán\n",
    "columnas_sin_ocupar = [x for x in columnas if x not in columnas_ocupadas]"
   ]
  },
  {
   "cell_type": "markdown",
   "metadata": {},
   "source": [
    "### Carga de Datos"
   ]
  },
  {
   "cell_type": "code",
   "execution_count": 5,
   "metadata": {
    "ExecuteTime": {
     "end_time": "2020-07-13T17:26:56.754967Z",
     "start_time": "2020-07-13T17:26:53.693765Z"
    },
    "scrolled": false
   },
   "outputs": [
    {
     "name": "stderr",
     "output_type": "stream",
     "text": [
      "C:\\ProgramData\\Anaconda3\\lib\\site-packages\\IPython\\core\\interactiveshell.py:3063: DtypeWarning: Columns (7) have mixed types.Specify dtype option on import or set low_memory=False.\n",
      "  interactivity=interactivity, compiler=compiler, result=result)\n"
     ]
    },
    {
     "name": "stdout",
     "output_type": "stream",
     "text": [
      "El dataset tiene una cantidad de 581159 datos y 17 variables.\n"
     ]
    },
    {
     "data": {
      "text/html": [
       "<div>\n",
       "<style scoped>\n",
       "    .dataframe tbody tr th:only-of-type {\n",
       "        vertical-align: middle;\n",
       "    }\n",
       "\n",
       "    .dataframe tbody tr th {\n",
       "        vertical-align: top;\n",
       "    }\n",
       "\n",
       "    .dataframe thead th {\n",
       "        text-align: right;\n",
       "    }\n",
       "</style>\n",
       "<table border=\"1\" class=\"dataframe\">\n",
       "  <thead>\n",
       "    <tr style=\"text-align: right;\">\n",
       "      <th></th>\n",
       "      <th>FIRE_YEAR</th>\n",
       "      <th>STAT_CAUSE_DESCR</th>\n",
       "      <th>FIRE_SIZE</th>\n",
       "      <th>FIRE_SIZE_CLASS</th>\n",
       "      <th>LATITUDE</th>\n",
       "      <th>LONGITUDE</th>\n",
       "      <th>STATE</th>\n",
       "      <th>COUNTY</th>\n",
       "      <th>FIPS_NAME</th>\n",
       "      <th>DISC_DATE_TIME</th>\n",
       "      <th>DISC_MONTH</th>\n",
       "      <th>DISC_DAY_OF_WEEK</th>\n",
       "      <th>DISC_TIME</th>\n",
       "      <th>CONT_DATE_TIME</th>\n",
       "      <th>CONT_MONTH</th>\n",
       "      <th>CONT_DAY_OF_WEEK</th>\n",
       "      <th>CONT_TIME</th>\n",
       "    </tr>\n",
       "  </thead>\n",
       "  <tbody>\n",
       "    <tr>\n",
       "      <th>0</th>\n",
       "      <td>2005</td>\n",
       "      <td>Miscellaneous</td>\n",
       "      <td>0.10</td>\n",
       "      <td>A</td>\n",
       "      <td>40.036944</td>\n",
       "      <td>-121.005833</td>\n",
       "      <td>CA</td>\n",
       "      <td>63</td>\n",
       "      <td>Plumas</td>\n",
       "      <td>2005-02-02 13:00:00</td>\n",
       "      <td>February</td>\n",
       "      <td>Wednesday</td>\n",
       "      <td>13</td>\n",
       "      <td>2005-02-02 17:30:00</td>\n",
       "      <td>February</td>\n",
       "      <td>Wednesday</td>\n",
       "      <td>17</td>\n",
       "    </tr>\n",
       "    <tr>\n",
       "      <th>1</th>\n",
       "      <td>2004</td>\n",
       "      <td>Lightning</td>\n",
       "      <td>0.25</td>\n",
       "      <td>A</td>\n",
       "      <td>38.933056</td>\n",
       "      <td>-120.404444</td>\n",
       "      <td>CA</td>\n",
       "      <td>61</td>\n",
       "      <td>Placer</td>\n",
       "      <td>2004-05-12 08:45:00</td>\n",
       "      <td>May</td>\n",
       "      <td>Wednesday</td>\n",
       "      <td>8</td>\n",
       "      <td>2004-05-12 15:30:00</td>\n",
       "      <td>May</td>\n",
       "      <td>Wednesday</td>\n",
       "      <td>15</td>\n",
       "    </tr>\n",
       "    <tr>\n",
       "      <th>2</th>\n",
       "      <td>2004</td>\n",
       "      <td>Debris Burning</td>\n",
       "      <td>0.10</td>\n",
       "      <td>A</td>\n",
       "      <td>38.984167</td>\n",
       "      <td>-120.735556</td>\n",
       "      <td>CA</td>\n",
       "      <td>17</td>\n",
       "      <td>El Dorado</td>\n",
       "      <td>2004-05-31 19:21:00</td>\n",
       "      <td>May</td>\n",
       "      <td>Monday</td>\n",
       "      <td>19</td>\n",
       "      <td>2004-05-31 20:24:00</td>\n",
       "      <td>May</td>\n",
       "      <td>Monday</td>\n",
       "      <td>20</td>\n",
       "    </tr>\n",
       "    <tr>\n",
       "      <th>3</th>\n",
       "      <td>2004</td>\n",
       "      <td>Lightning</td>\n",
       "      <td>0.10</td>\n",
       "      <td>A</td>\n",
       "      <td>38.559167</td>\n",
       "      <td>-119.913333</td>\n",
       "      <td>CA</td>\n",
       "      <td>3</td>\n",
       "      <td>Alpine</td>\n",
       "      <td>2004-06-28 16:00:00</td>\n",
       "      <td>June</td>\n",
       "      <td>Monday</td>\n",
       "      <td>16</td>\n",
       "      <td>2004-07-03 14:00:00</td>\n",
       "      <td>July</td>\n",
       "      <td>Saturday</td>\n",
       "      <td>14</td>\n",
       "    </tr>\n",
       "    <tr>\n",
       "      <th>4</th>\n",
       "      <td>2004</td>\n",
       "      <td>Lightning</td>\n",
       "      <td>0.10</td>\n",
       "      <td>A</td>\n",
       "      <td>38.559167</td>\n",
       "      <td>-119.933056</td>\n",
       "      <td>CA</td>\n",
       "      <td>3</td>\n",
       "      <td>Alpine</td>\n",
       "      <td>2004-06-28 16:00:00</td>\n",
       "      <td>June</td>\n",
       "      <td>Monday</td>\n",
       "      <td>16</td>\n",
       "      <td>2004-07-03 12:00:00</td>\n",
       "      <td>July</td>\n",
       "      <td>Saturday</td>\n",
       "      <td>12</td>\n",
       "    </tr>\n",
       "  </tbody>\n",
       "</table>\n",
       "</div>"
      ],
      "text/plain": [
       "   FIRE_YEAR STAT_CAUSE_DESCR  FIRE_SIZE FIRE_SIZE_CLASS   LATITUDE  \\\n",
       "0       2005    Miscellaneous       0.10               A  40.036944   \n",
       "1       2004        Lightning       0.25               A  38.933056   \n",
       "2       2004   Debris Burning       0.10               A  38.984167   \n",
       "3       2004        Lightning       0.10               A  38.559167   \n",
       "4       2004        Lightning       0.10               A  38.559167   \n",
       "\n",
       "    LONGITUDE STATE COUNTY  FIPS_NAME      DISC_DATE_TIME DISC_MONTH  \\\n",
       "0 -121.005833    CA     63     Plumas 2005-02-02 13:00:00   February   \n",
       "1 -120.404444    CA     61     Placer 2004-05-12 08:45:00        May   \n",
       "2 -120.735556    CA     17  El Dorado 2004-05-31 19:21:00        May   \n",
       "3 -119.913333    CA      3     Alpine 2004-06-28 16:00:00       June   \n",
       "4 -119.933056    CA      3     Alpine 2004-06-28 16:00:00       June   \n",
       "\n",
       "  DISC_DAY_OF_WEEK  DISC_TIME      CONT_DATE_TIME CONT_MONTH CONT_DAY_OF_WEEK  \\\n",
       "0        Wednesday         13 2005-02-02 17:30:00   February        Wednesday   \n",
       "1        Wednesday          8 2004-05-12 15:30:00        May        Wednesday   \n",
       "2           Monday         19 2004-05-31 20:24:00        May           Monday   \n",
       "3           Monday         16 2004-07-03 14:00:00       July         Saturday   \n",
       "4           Monday         16 2004-07-03 12:00:00       July         Saturday   \n",
       "\n",
       "   CONT_TIME  \n",
       "0         17  \n",
       "1         15  \n",
       "2         20  \n",
       "3         14  \n",
       "4         12  "
      ]
     },
     "execution_count": 5,
     "metadata": {},
     "output_type": "execute_result"
    }
   ],
   "source": [
    "df = pd.read_csv(WF_DATA_PATH)\n",
    "\n",
    "# Convertimos los datos que sean fechas en ese tipo de dato\n",
    "df[\"DISC_DATE_TIME\"] = pd.to_datetime(df[\"DISC_DATE_TIME\"])\n",
    "df[\"CONT_DATE_TIME\"] = pd.to_datetime(df[\"CONT_DATE_TIME\"])\n",
    "\n",
    "print_cantidad(df)\n",
    "\n",
    "df.head()"
   ]
  },
  {
   "cell_type": "markdown",
   "metadata": {},
   "source": [
    "## Preparación de la data"
   ]
  },
  {
   "cell_type": "markdown",
   "metadata": {},
   "source": [
    "### Convertir variables categóricas a númericas"
   ]
  },
  {
   "cell_type": "code",
   "execution_count": null,
   "metadata": {},
   "outputs": [],
   "source": [
    "df_copy = df.copy()\n",
    "\n",
    "df_copy = df_copy.drop(\"DISC_DATE_TIME\", axis=1)\n",
    "df_copy = df_copy.drop(\"CONT_DATE_TIME\", axis=1)\n",
    "df_copy = df_copy.drop(\"COUNTY\", axis=1)\n",
    "\n",
    "columnas = [\n",
    "    \"STATE\", \n",
    "    \"DISC_MONTH\",\n",
    "    \"DISC_DAY_OF_WEEK\",\n",
    "    \"CONT_MONTH\",\n",
    "    \"CONT_DAY_OF_WEEK\",\n",
    "    \"FIRE_SIZE_CLASS\",\n",
    "    \"FIPS_NAME\",\n",
    "    \"STAT_CAUSE_DESCR\",\n",
    "]\n",
    "\n",
    "le = preprocessing.LabelEncoder()\n",
    "for col in columnas:\n",
    "    df_copy[col] = le.fit_transform(df_copy[col])"
   ]
  },
  {
   "cell_type": "markdown",
   "metadata": {},
   "source": [
    "### Preparación de la data de entrenamiento con la de prueba"
   ]
  },
  {
   "cell_type": "code",
   "execution_count": 6,
   "metadata": {
    "ExecuteTime": {
     "end_time": "2020-07-13T17:26:58.270745Z",
     "start_time": "2020-07-13T17:26:56.755964Z"
    }
   },
   "outputs": [],
   "source": [
    "from sklearn.model_selection import train_test_split\n",
    "\n",
    "X = df_copy.drop(\"STAT_CAUSE_DESCR\", axis=1).values\n",
    "y = df.STAT_CAUSE_DESCR.values\n",
    "\n",
    "X_train, X_test, y_train, y_test = train_test_split(X,\n",
    "                                                    y,\n",
    "                                                    test_size=0.3,\n",
    "                                                    random_state=0\n",
    "                                                   )"
   ]
  },
  {
   "cell_type": "markdown",
   "metadata": {},
   "source": [
    "## Generación de modelos"
   ]
  },
  {
   "cell_type": "markdown",
   "metadata": {},
   "source": [
    "Empezamos a probar la clasificación con distintos métodos"
   ]
  },
  {
   "cell_type": "markdown",
   "metadata": {},
   "source": [
    "### Naïve Bayes"
   ]
  },
  {
   "cell_type": "code",
   "execution_count": 8,
   "metadata": {
    "ExecuteTime": {
     "end_time": "2020-07-13T17:27:05.695357Z",
     "start_time": "2020-07-13T17:26:58.508114Z"
    }
   },
   "outputs": [
    {
     "name": "stderr",
     "output_type": "stream",
     "text": [
      "C:\\ProgramData\\Anaconda3\\lib\\site-packages\\sklearn\\metrics\\_classification.py:1272: UndefinedMetricWarning: Precision and F-score are ill-defined and being set to 0.0 in labels with no predicted samples. Use `zero_division` parameter to control this behavior.\n",
      "  _warn_prf(average, modifier, msg_start, len(result))\n"
     ]
    },
    {
     "name": "stdout",
     "output_type": "stream",
     "text": [
      "                   precision    recall  f1-score   support\n",
      "\n",
      "            Arson       0.37      0.18      0.24     27621\n",
      "         Campfire       0.16      0.29      0.21      8562\n",
      "         Children       0.02      0.13      0.03      3706\n",
      "   Debris Burning       0.40      0.82      0.53     42022\n",
      "    Equipment Use       0.19      0.01      0.03      9861\n",
      "        Fireworks       0.07      0.06      0.06       788\n",
      "        Lightning       0.62      0.37      0.47     34400\n",
      "    Miscellaneous       0.43      0.14      0.21     30883\n",
      "Missing/Undefined       0.20      0.04      0.06      8175\n",
      "        Powerline       0.00      0.00      0.00      1662\n",
      "         Railroad       0.00      0.00      0.00      1733\n",
      "          Smoking       0.09      0.01      0.01      4502\n",
      "        Structure       0.00      0.00      0.00       433\n",
      "\n",
      "         accuracy                           0.35    174348\n",
      "        macro avg       0.20      0.16      0.14    174348\n",
      "     weighted avg       0.38      0.35      0.31    174348\n",
      "\n"
     ]
    }
   ],
   "source": [
    "from sklearn.naive_bayes import GaussianNB\n",
    "# Entrenamos\n",
    "gnb = GaussianNB()\n",
    "gnb.fit(X_train, y_train)\n",
    "\n",
    "# Predecimos\n",
    "y_pred_gnb = gnb.predict(X_test)\n",
    "\n",
    "# Mostramos\n",
    "print(classification_report(y_test, y_pred_gnb))"
   ]
  },
  {
   "cell_type": "markdown",
   "metadata": {},
   "source": [
    "### Clasificador de k-vecinos próximos"
   ]
  },
  {
   "cell_type": "code",
   "execution_count": 9,
   "metadata": {
    "ExecuteTime": {
     "end_time": "2020-07-13T17:27:33.472656Z",
     "start_time": "2020-07-13T17:27:05.696349Z"
    }
   },
   "outputs": [
    {
     "name": "stdout",
     "output_type": "stream",
     "text": [
      "                   precision    recall  f1-score   support\n",
      "\n",
      "            Arson       0.40      0.56      0.47     27621\n",
      "         Campfire       0.27      0.36      0.31      8562\n",
      "         Children       0.08      0.09      0.08      3706\n",
      "   Debris Burning       0.51      0.56      0.53     42022\n",
      "    Equipment Use       0.26      0.19      0.22      9861\n",
      "        Fireworks       0.18      0.09      0.12       788\n",
      "        Lightning       0.73      0.71      0.72     34400\n",
      "    Miscellaneous       0.54      0.42      0.47     30883\n",
      "Missing/Undefined       0.70      0.57      0.63      8175\n",
      "        Powerline       0.17      0.04      0.06      1662\n",
      "         Railroad       0.52      0.24      0.33      1733\n",
      "          Smoking       0.15      0.04      0.06      4502\n",
      "        Structure       0.04      0.00      0.00       433\n",
      "\n",
      "         accuracy                           0.50    174348\n",
      "        macro avg       0.35      0.30      0.31    174348\n",
      "     weighted avg       0.50      0.50      0.49    174348\n",
      "\n"
     ]
    }
   ],
   "source": [
    "from sklearn.neighbors import KNeighborsClassifier\n",
    "# Entrenamos\n",
    "knc = KNeighborsClassifier(n_neighbors=3)\n",
    "knc.fit(X_train, y_train)\n",
    "\n",
    "# Predecimos\n",
    "y_pred_knc = knc.predict(X_test)\n",
    "\n",
    "# Mostramos\n",
    "print(classification_report(y_test, y_pred_knc))"
   ]
  },
  {
   "cell_type": "markdown",
   "metadata": {},
   "source": [
    "### Análisis de Discriminante Lineal"
   ]
  },
  {
   "cell_type": "code",
   "execution_count": 10,
   "metadata": {
    "ExecuteTime": {
     "end_time": "2020-07-13T17:27:41.554133Z",
     "start_time": "2020-07-13T17:27:33.474650Z"
    }
   },
   "outputs": [
    {
     "name": "stderr",
     "output_type": "stream",
     "text": [
      "C:\\ProgramData\\Anaconda3\\lib\\site-packages\\sklearn\\metrics\\_classification.py:1272: UndefinedMetricWarning: Precision and F-score are ill-defined and being set to 0.0 in labels with no predicted samples. Use `zero_division` parameter to control this behavior.\n",
      "  _warn_prf(average, modifier, msg_start, len(result))\n"
     ]
    },
    {
     "name": "stdout",
     "output_type": "stream",
     "text": [
      "                   precision    recall  f1-score   support\n",
      "\n",
      "            Arson       0.40      0.25      0.31     27621\n",
      "         Campfire       0.08      0.00      0.00      8562\n",
      "         Children       0.00      0.00      0.00      3706\n",
      "   Debris Burning       0.44      0.71      0.54     42022\n",
      "    Equipment Use       0.00      0.00      0.00      9861\n",
      "        Fireworks       0.00      0.00      0.00       788\n",
      "        Lightning       0.51      0.82      0.63     34400\n",
      "    Miscellaneous       0.47      0.49      0.48     30883\n",
      "Missing/Undefined       0.06      0.00      0.01      8175\n",
      "        Powerline       0.00      0.00      0.00      1662\n",
      "         Railroad       0.00      0.00      0.00      1733\n",
      "          Smoking       0.00      0.00      0.00      4502\n",
      "        Structure       0.00      0.00      0.00       433\n",
      "\n",
      "         accuracy                           0.46    174348\n",
      "        macro avg       0.15      0.18      0.15    174348\n",
      "     weighted avg       0.36      0.46      0.39    174348\n",
      "\n"
     ]
    }
   ],
   "source": [
    "from sklearn.discriminant_analysis import LinearDiscriminantAnalysis\n",
    "# Entrenamos\n",
    "lda = LinearDiscriminantAnalysis()\n",
    "lda.fit(X_train, y_train)\n",
    "\n",
    "# Predecimos\n",
    "y_pred_lda = lda.predict(X_test)\n",
    "\n",
    "# Mostramos\n",
    "print(classification_report(y_test, y_pred_lda))"
   ]
  },
  {
   "cell_type": "markdown",
   "metadata": {},
   "source": [
    "### Análisis de Discriminante Cuadrático"
   ]
  },
  {
   "cell_type": "code",
   "execution_count": 11,
   "metadata": {
    "ExecuteTime": {
     "end_time": "2020-07-13T17:27:49.779008Z",
     "start_time": "2020-07-13T17:27:41.556136Z"
    }
   },
   "outputs": [
    {
     "name": "stderr",
     "output_type": "stream",
     "text": [
      "C:\\ProgramData\\Anaconda3\\lib\\site-packages\\sklearn\\metrics\\_classification.py:1272: UndefinedMetricWarning: Precision and F-score are ill-defined and being set to 0.0 in labels with no predicted samples. Use `zero_division` parameter to control this behavior.\n",
      "  _warn_prf(average, modifier, msg_start, len(result))\n"
     ]
    },
    {
     "name": "stdout",
     "output_type": "stream",
     "text": [
      "                   precision    recall  f1-score   support\n",
      "\n",
      "            Arson       0.33      0.08      0.13     27621\n",
      "         Campfire       0.17      0.23      0.20      8562\n",
      "         Children       0.02      0.14      0.04      3706\n",
      "   Debris Burning       0.37      0.89      0.52     42022\n",
      "    Equipment Use       0.15      0.05      0.08      9861\n",
      "        Fireworks       0.02      0.07      0.03       788\n",
      "        Lightning       0.66      0.32      0.43     34400\n",
      "    Miscellaneous       0.47      0.07      0.12     30883\n",
      "Missing/Undefined       0.20      0.05      0.08      8175\n",
      "        Powerline       0.03      0.00      0.00      1662\n",
      "         Railroad       0.01      0.00      0.00      1733\n",
      "          Smoking       0.04      0.00      0.00      4502\n",
      "        Structure       0.00      0.00      0.00       433\n",
      "\n",
      "         accuracy                           0.32    174348\n",
      "        macro avg       0.19      0.15      0.13    174348\n",
      "     weighted avg       0.38      0.32      0.27    174348\n",
      "\n"
     ]
    }
   ],
   "source": [
    "from sklearn.discriminant_analysis import QuadraticDiscriminantAnalysis\n",
    "# Entrenamos\n",
    "qda = QuadraticDiscriminantAnalysis()\n",
    "qda.fit(X_train, y_train)\n",
    "\n",
    "# Predecimos\n",
    "y_pred_qda = qda.predict(X_test)\n",
    "\n",
    "# Mostramos\n",
    "print(classification_report(y_test, y_pred_qda))"
   ]
  },
  {
   "cell_type": "markdown",
   "metadata": {},
   "source": [
    "### Árbol de Decisión"
   ]
  },
  {
   "cell_type": "code",
   "execution_count": 12,
   "metadata": {
    "ExecuteTime": {
     "end_time": "2020-07-13T17:28:02.374961Z",
     "start_time": "2020-07-13T17:27:49.780971Z"
    }
   },
   "outputs": [
    {
     "name": "stdout",
     "output_type": "stream",
     "text": [
      "                   precision    recall  f1-score   support\n",
      "\n",
      "            Arson       0.46      0.47      0.46     27621\n",
      "         Campfire       0.31      0.32      0.31      8562\n",
      "         Children       0.08      0.09      0.08      3706\n",
      "   Debris Burning       0.52      0.51      0.52     42022\n",
      "    Equipment Use       0.22      0.24      0.23      9861\n",
      "        Fireworks       0.15      0.17      0.16       788\n",
      "        Lightning       0.73      0.72      0.72     34400\n",
      "    Miscellaneous       0.45      0.44      0.45     30883\n",
      "Missing/Undefined       0.76      0.75      0.75      8175\n",
      "        Powerline       0.11      0.11      0.11      1662\n",
      "         Railroad       0.29      0.32      0.31      1733\n",
      "          Smoking       0.10      0.11      0.11      4502\n",
      "        Structure       0.04      0.04      0.04       433\n",
      "\n",
      "         accuracy                           0.49    174348\n",
      "        macro avg       0.33      0.33      0.33    174348\n",
      "     weighted avg       0.50      0.49      0.49    174348\n",
      "\n"
     ]
    }
   ],
   "source": [
    "from sklearn.tree import DecisionTreeClassifier\n",
    "\n",
    "# Entrenamos\n",
    "dtc = DecisionTreeClassifier()\n",
    "dtc = dtc.fit(X_train, y_train)\n",
    "\n",
    "# Predecimos\n",
    "y_pred_dtc = dtc.predict(X_test)\n",
    "\n",
    "# Mostramos\n",
    "print(classification_report(y_test, y_pred_dtc))"
   ]
  },
  {
   "cell_type": "markdown",
   "metadata": {},
   "source": [
    "### Random Forest"
   ]
  },
  {
   "cell_type": "code",
   "execution_count": 13,
   "metadata": {
    "ExecuteTime": {
     "end_time": "2020-07-13T17:29:12.079495Z",
     "start_time": "2020-07-13T17:28:02.375926Z"
    }
   },
   "outputs": [
    {
     "name": "stdout",
     "output_type": "stream",
     "text": [
      "                   precision    recall  f1-score   support\n",
      "\n",
      "            Arson       0.56      0.55      0.56     27621\n",
      "         Campfire       0.51      0.35      0.42      8562\n",
      "         Children       0.22      0.03      0.06      3706\n",
      "   Debris Burning       0.56      0.73      0.63     42022\n",
      "    Equipment Use       0.39      0.22      0.28      9861\n",
      "        Fireworks       0.51      0.13      0.20       788\n",
      "        Lightning       0.76      0.86      0.80     34400\n",
      "    Miscellaneous       0.55      0.57      0.56     30883\n",
      "Missing/Undefined       0.81      0.76      0.79      8175\n",
      "        Powerline       0.36      0.07      0.12      1662\n",
      "         Railroad       0.81      0.26      0.39      1733\n",
      "          Smoking       0.29      0.05      0.08      4502\n",
      "        Structure       0.13      0.01      0.01       433\n",
      "\n",
      "         accuracy                           0.60    174348\n",
      "        macro avg       0.50      0.35      0.38    174348\n",
      "     weighted avg       0.58      0.60      0.58    174348\n",
      "\n"
     ]
    }
   ],
   "source": [
    "from sklearn.ensemble import RandomForestClassifier\n",
    "# Entrenamos\n",
    "rfc = RandomForestClassifier(n_estimators=50)\n",
    "rfc = rfc.fit(X_train, y_train)\n",
    "\n",
    "# Predecimos\n",
    "y_pred_rfc = rfc.predict(X_test)\n",
    "\n",
    "# Mostramos\n",
    "print(classification_report(y_test, y_pred_rfc))"
   ]
  }
 ],
 "metadata": {
  "kernelspec": {
   "display_name": "Python 3",
   "language": "python",
   "name": "python3"
  },
  "language_info": {
   "codemirror_mode": {
    "name": "ipython",
    "version": 3
   },
   "file_extension": ".py",
   "mimetype": "text/x-python",
   "name": "python",
   "nbconvert_exporter": "python",
   "pygments_lexer": "ipython3",
   "version": "3.7.3"
  },
  "toc": {
   "base_numbering": 1,
   "nav_menu": {},
   "number_sections": true,
   "sideBar": true,
   "skip_h1_title": false,
   "title_cell": "Table of Contents",
   "title_sidebar": "Contents",
   "toc_cell": false,
   "toc_position": {
    "height": "calc(100% - 180px)",
    "left": "10px",
    "top": "150px",
    "width": "228.667px"
   },
   "toc_section_display": true,
   "toc_window_display": false
  },
  "varInspector": {
   "cols": {
    "lenName": 16,
    "lenType": 16,
    "lenVar": 40
   },
   "kernels_config": {
    "python": {
     "delete_cmd_postfix": "",
     "delete_cmd_prefix": "del ",
     "library": "var_list.py",
     "varRefreshCmd": "print(var_dic_list())"
    },
    "r": {
     "delete_cmd_postfix": ") ",
     "delete_cmd_prefix": "rm(",
     "library": "var_list.r",
     "varRefreshCmd": "cat(var_dic_list()) "
    }
   },
   "oldHeight": 216.333666,
   "position": {
    "height": "237.667px",
    "left": "824px",
    "right": "20px",
    "top": "120px",
    "width": "350px"
   },
   "types_to_exclude": [
    "module",
    "function",
    "builtin_function_or_method",
    "instance",
    "_Feature"
   ],
   "varInspector_section_display": "block",
   "window_display": false
  }
 },
 "nbformat": 4,
 "nbformat_minor": 4
}
