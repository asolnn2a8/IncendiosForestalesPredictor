{
 "cells": [
  {
   "cell_type": "markdown",
   "metadata": {},
   "source": [
    "# Carga de Datos"
   ]
  },
  {
   "cell_type": "markdown",
   "metadata": {},
   "source": [
    "## Importación de librerías"
   ]
  },
  {
   "cell_type": "code",
   "execution_count": 1,
   "metadata": {},
   "outputs": [],
   "source": [
    "import sqlite3\n",
    "import os.path\n",
    "import pandas as pd\n",
    "import matplotlib.pyplot as plt"
   ]
  },
  {
   "cell_type": "markdown",
   "metadata": {},
   "source": [
    "## Constantes"
   ]
  },
  {
   "cell_type": "markdown",
   "metadata": {},
   "source": [
    "Rutas usuales que se ocuparán en el notebook"
   ]
  },
  {
   "cell_type": "code",
   "execution_count": 2,
   "metadata": {},
   "outputs": [],
   "source": [
    "# RUTAS\n",
    "DATA_PATH = os.path.join(\"..\\\\data\\\\\")\n",
    "WF_FOLDER_PATH = os.path.join(DATA_PATH, \"wildfires_us\")\n",
    "WF_DATA_PATH = os.path.join(WF_FOLDER_PATH, \"FPA_FOD_20170508.sqlite\")"
   ]
  },
  {
   "cell_type": "markdown",
   "metadata": {},
   "source": [
    "## Funciones auxiliares"
   ]
  },
  {
   "cell_type": "code",
   "execution_count": 3,
   "metadata": {},
   "outputs": [],
   "source": [
    "def crear_puntero(path=WF_DATA_PATH, msg=False):\n",
    "    \"\"\"Función que crea un puntero con el dataset de incendios forestales en US.\n",
    "    \"\"\"\n",
    "    try:\n",
    "        conn = sqlite3.connect(path)\n",
    "        if msg: print(\"Conexión realizada con éxito.\")\n",
    "    except:\n",
    "        if msg: print(\"No se encuentra el archivo.\")\n",
    "    return conn"
   ]
  },
  {
   "cell_type": "markdown",
   "metadata": {},
   "source": [
    "## Primer acercamiento a la BBDD"
   ]
  },
  {
   "cell_type": "markdown",
   "metadata": {},
   "source": [
    "### Columnas"
   ]
  },
  {
   "cell_type": "markdown",
   "metadata": {},
   "source": [
    "Cargar una fila para obtener las columnas de la tabla"
   ]
  },
  {
   "cell_type": "code",
   "execution_count": 4,
   "metadata": {},
   "outputs": [
    {
     "name": "stdout",
     "output_type": "stream",
     "text": [
      "Conexión realizada con éxito.\n"
     ]
    }
   ],
   "source": [
    "# Obtener una fila del dataset\n",
    "conn = crear_puntero(msg=True)\n",
    "df_aux = pd.read_sql_query(f\"SELECT * FROM 'Fires' WHERE FOD_ID=1\", conn)\n",
    "conn.close()"
   ]
  },
  {
   "cell_type": "markdown",
   "metadata": {},
   "source": [
    "Columnas a ocupar"
   ]
  },
  {
   "cell_type": "code",
   "execution_count": 5,
   "metadata": {},
   "outputs": [],
   "source": [
    "# Todas las columnas\n",
    "columnas = list(df_aux.columns)\n",
    "\n",
    "# Columnas que se ocuparán en el análisis\n",
    "columnas_ocupadas = [\n",
    "    \"FIRE_YEAR\",        # Año en que el incendio fue descubierto o confirmado\n",
    "    \"DISCOVERY_DATE\",   # Fecha en que fue descubiertoel incendio\n",
    "    \"DISCOVERY_DOY\",    # Día en que fue descubierto el incendio\n",
    "    \"DISCOVERY_TIME\",   # Hora en que fue descubierto el incendio\n",
    "    \"STAT_CAUSE_DESCR\", # Descripción de la causa del incendio\n",
    "    \"CONT_DATE\",        # Fecha en que se contuvo el incendio\n",
    "    \"CONT_TIME\",        # Hora en que se contuvo el incendio\n",
    "    \"FIRE_SIZE\",        # Área final estimada que alcanzó el incendio (medido en acres)\n",
    "    \"LATITUDE\",         # Latitud de la localización del incendio\n",
    "    \"LONGITUDE\",        # Longitud de la localización del incendio\n",
    "    \"STATE\",\n",
    "]\n",
    "\n",
    "# Columnas que no se ocuparán\n",
    "columnas_sin_ocupar = [x for x in columnas if x not in columnas_ocupadas]"
   ]
  },
  {
   "cell_type": "markdown",
   "metadata": {},
   "source": [
    "### Carga de Datos"
   ]
  },
  {
   "cell_type": "code",
   "execution_count": 12,
   "metadata": {
    "scrolled": false
   },
   "outputs": [
    {
     "name": "stdout",
     "output_type": "stream",
     "text": [
      "Conexión realizada con éxito.\n"
     ]
    },
    {
     "data": {
      "text/html": [
       "<div>\n",
       "<style scoped>\n",
       "    .dataframe tbody tr th:only-of-type {\n",
       "        vertical-align: middle;\n",
       "    }\n",
       "\n",
       "    .dataframe tbody tr th {\n",
       "        vertical-align: top;\n",
       "    }\n",
       "\n",
       "    .dataframe thead th {\n",
       "        text-align: right;\n",
       "    }\n",
       "</style>\n",
       "<table border=\"1\" class=\"dataframe\">\n",
       "  <thead>\n",
       "    <tr style=\"text-align: right;\">\n",
       "      <th></th>\n",
       "      <th>FIRE_YEAR</th>\n",
       "      <th>DISCOVERY_DATE</th>\n",
       "      <th>DISCOVERY_DOY</th>\n",
       "      <th>DISCOVERY_TIME</th>\n",
       "      <th>STAT_CAUSE_DESCR</th>\n",
       "      <th>CONT_DATE</th>\n",
       "      <th>CONT_DOY</th>\n",
       "      <th>CONT_TIME</th>\n",
       "      <th>FIRE_SIZE</th>\n",
       "      <th>LATITUDE</th>\n",
       "      <th>LONGITUDE</th>\n",
       "      <th>STATE</th>\n",
       "    </tr>\n",
       "  </thead>\n",
       "  <tbody>\n",
       "    <tr>\n",
       "      <th>0</th>\n",
       "      <td>2005</td>\n",
       "      <td>2005-02-02</td>\n",
       "      <td>33</td>\n",
       "      <td>1300</td>\n",
       "      <td>Miscellaneous</td>\n",
       "      <td>2005-02-02</td>\n",
       "      <td>33.0</td>\n",
       "      <td>1730</td>\n",
       "      <td>0.10</td>\n",
       "      <td>40.036944</td>\n",
       "      <td>-121.005833</td>\n",
       "      <td>CA</td>\n",
       "    </tr>\n",
       "    <tr>\n",
       "      <th>1</th>\n",
       "      <td>2004</td>\n",
       "      <td>2004-05-12</td>\n",
       "      <td>133</td>\n",
       "      <td>0845</td>\n",
       "      <td>Lightning</td>\n",
       "      <td>2004-05-12</td>\n",
       "      <td>133.0</td>\n",
       "      <td>1530</td>\n",
       "      <td>0.25</td>\n",
       "      <td>38.933056</td>\n",
       "      <td>-120.404444</td>\n",
       "      <td>CA</td>\n",
       "    </tr>\n",
       "    <tr>\n",
       "      <th>2</th>\n",
       "      <td>2004</td>\n",
       "      <td>2004-05-31</td>\n",
       "      <td>152</td>\n",
       "      <td>1921</td>\n",
       "      <td>Debris Burning</td>\n",
       "      <td>2004-05-31</td>\n",
       "      <td>152.0</td>\n",
       "      <td>2024</td>\n",
       "      <td>0.10</td>\n",
       "      <td>38.984167</td>\n",
       "      <td>-120.735556</td>\n",
       "      <td>CA</td>\n",
       "    </tr>\n",
       "    <tr>\n",
       "      <th>3</th>\n",
       "      <td>2004</td>\n",
       "      <td>2004-06-28</td>\n",
       "      <td>180</td>\n",
       "      <td>1600</td>\n",
       "      <td>Lightning</td>\n",
       "      <td>2004-07-03</td>\n",
       "      <td>185.0</td>\n",
       "      <td>1400</td>\n",
       "      <td>0.10</td>\n",
       "      <td>38.559167</td>\n",
       "      <td>-119.913333</td>\n",
       "      <td>CA</td>\n",
       "    </tr>\n",
       "    <tr>\n",
       "      <th>4</th>\n",
       "      <td>2004</td>\n",
       "      <td>2004-06-28</td>\n",
       "      <td>180</td>\n",
       "      <td>1600</td>\n",
       "      <td>Lightning</td>\n",
       "      <td>2004-07-03</td>\n",
       "      <td>185.0</td>\n",
       "      <td>1200</td>\n",
       "      <td>0.10</td>\n",
       "      <td>38.559167</td>\n",
       "      <td>-119.933056</td>\n",
       "      <td>CA</td>\n",
       "    </tr>\n",
       "  </tbody>\n",
       "</table>\n",
       "</div>"
      ],
      "text/plain": [
       "   FIRE_YEAR DISCOVERY_DATE  DISCOVERY_DOY DISCOVERY_TIME STAT_CAUSE_DESCR  \\\n",
       "0       2005     2005-02-02             33           1300    Miscellaneous   \n",
       "1       2004     2004-05-12            133           0845        Lightning   \n",
       "2       2004     2004-05-31            152           1921   Debris Burning   \n",
       "3       2004     2004-06-28            180           1600        Lightning   \n",
       "4       2004     2004-06-28            180           1600        Lightning   \n",
       "\n",
       "   CONT_DATE  CONT_DOY CONT_TIME  FIRE_SIZE   LATITUDE   LONGITUDE STATE  \n",
       "0 2005-02-02      33.0      1730       0.10  40.036944 -121.005833    CA  \n",
       "1 2004-05-12     133.0      1530       0.25  38.933056 -120.404444    CA  \n",
       "2 2004-05-31     152.0      2024       0.10  38.984167 -120.735556    CA  \n",
       "3 2004-07-03     185.0      1400       0.10  38.559167 -119.913333    CA  \n",
       "4 2004-07-03     185.0      1200       0.10  38.559167 -119.933056    CA  "
      ]
     },
     "execution_count": 12,
     "metadata": {},
     "output_type": "execute_result"
    }
   ],
   "source": [
    "# str que se ocupará al cargar los datos\n",
    "columnas_str = \",\".join(columnas_ocupadas)\n",
    "\n",
    "# Obtener una fila del dataset\n",
    "conn = crear_puntero(msg=True)\n",
    "df = pd.read_sql_query(f\"SELECT {columnas_str} FROM 'Fires'\", conn)\n",
    "conn.close()\n",
    "\n",
    "# Transformar las fechas en formato Gregoriano\n",
    "df[\"DISCOVERY_DATE\"] = pd.to_datetime(df[\"DISCOVERY_DATE\"] - pd.Timestamp(0).to_julian_date(), unit='D')\n",
    "df[\"CONT_DATE\"] = pd.to_datetime(df[\"CONT_DATE\"] - pd.Timestamp(0).to_julian_date(), unit='D')\n",
    "\n",
    "df.head()"
   ]
  },
  {
   "cell_type": "code",
   "execution_count": 14,
   "metadata": {},
   "outputs": [
    {
     "name": "stdout",
     "output_type": "stream",
     "text": [
      "El dataset tiene una cantidad de 1880465 datos y 12 variables.\n"
     ]
    }
   ],
   "source": [
    "print(f\"El dataset tiene una cantidad de {df.shape[0]} datos y {df.shape[1]} variables.\")"
   ]
  },
  {
   "cell_type": "code",
   "execution_count": 7,
   "metadata": {
    "scrolled": true
   },
   "outputs": [
    {
     "data": {
      "text/html": [
       "<div>\n",
       "<style scoped>\n",
       "    .dataframe tbody tr th:only-of-type {\n",
       "        vertical-align: middle;\n",
       "    }\n",
       "\n",
       "    .dataframe tbody tr th {\n",
       "        vertical-align: top;\n",
       "    }\n",
       "\n",
       "    .dataframe thead th {\n",
       "        text-align: right;\n",
       "    }\n",
       "</style>\n",
       "<table border=\"1\" class=\"dataframe\">\n",
       "  <thead>\n",
       "    <tr style=\"text-align: right;\">\n",
       "      <th></th>\n",
       "      <th>FIRE_YEAR</th>\n",
       "      <th>DISCOVERY_DOY</th>\n",
       "      <th>CONT_DOY</th>\n",
       "      <th>FIRE_SIZE</th>\n",
       "      <th>LATITUDE</th>\n",
       "      <th>LONGITUDE</th>\n",
       "    </tr>\n",
       "  </thead>\n",
       "  <tbody>\n",
       "    <tr>\n",
       "      <th>count</th>\n",
       "      <td>1.880465e+06</td>\n",
       "      <td>1.880465e+06</td>\n",
       "      <td>988934.000000</td>\n",
       "      <td>1.880465e+06</td>\n",
       "      <td>1.880465e+06</td>\n",
       "      <td>1.880465e+06</td>\n",
       "    </tr>\n",
       "    <tr>\n",
       "      <th>mean</th>\n",
       "      <td>2.003710e+03</td>\n",
       "      <td>1.647191e+02</td>\n",
       "      <td>172.656766</td>\n",
       "      <td>7.452016e+01</td>\n",
       "      <td>3.678121e+01</td>\n",
       "      <td>-9.570494e+01</td>\n",
       "    </tr>\n",
       "    <tr>\n",
       "      <th>std</th>\n",
       "      <td>6.663099e+00</td>\n",
       "      <td>9.003891e+01</td>\n",
       "      <td>84.320348</td>\n",
       "      <td>2.497598e+03</td>\n",
       "      <td>6.139031e+00</td>\n",
       "      <td>1.671694e+01</td>\n",
       "    </tr>\n",
       "    <tr>\n",
       "      <th>min</th>\n",
       "      <td>1.992000e+03</td>\n",
       "      <td>1.000000e+00</td>\n",
       "      <td>1.000000</td>\n",
       "      <td>1.000000e-05</td>\n",
       "      <td>1.793972e+01</td>\n",
       "      <td>-1.788026e+02</td>\n",
       "    </tr>\n",
       "    <tr>\n",
       "      <th>25%</th>\n",
       "      <td>1.998000e+03</td>\n",
       "      <td>8.900000e+01</td>\n",
       "      <td>102.000000</td>\n",
       "      <td>1.000000e-01</td>\n",
       "      <td>3.281860e+01</td>\n",
       "      <td>-1.103635e+02</td>\n",
       "    </tr>\n",
       "    <tr>\n",
       "      <th>50%</th>\n",
       "      <td>2.004000e+03</td>\n",
       "      <td>1.640000e+02</td>\n",
       "      <td>181.000000</td>\n",
       "      <td>1.000000e+00</td>\n",
       "      <td>3.545250e+01</td>\n",
       "      <td>-9.204304e+01</td>\n",
       "    </tr>\n",
       "    <tr>\n",
       "      <th>75%</th>\n",
       "      <td>2.009000e+03</td>\n",
       "      <td>2.300000e+02</td>\n",
       "      <td>232.000000</td>\n",
       "      <td>3.300000e+00</td>\n",
       "      <td>4.082720e+01</td>\n",
       "      <td>-8.229760e+01</td>\n",
       "    </tr>\n",
       "    <tr>\n",
       "      <th>max</th>\n",
       "      <td>2.015000e+03</td>\n",
       "      <td>3.660000e+02</td>\n",
       "      <td>366.000000</td>\n",
       "      <td>6.069450e+05</td>\n",
       "      <td>7.033060e+01</td>\n",
       "      <td>-6.525694e+01</td>\n",
       "    </tr>\n",
       "  </tbody>\n",
       "</table>\n",
       "</div>"
      ],
      "text/plain": [
       "          FIRE_YEAR  DISCOVERY_DOY       CONT_DOY     FIRE_SIZE      LATITUDE  \\\n",
       "count  1.880465e+06   1.880465e+06  988934.000000  1.880465e+06  1.880465e+06   \n",
       "mean   2.003710e+03   1.647191e+02     172.656766  7.452016e+01  3.678121e+01   \n",
       "std    6.663099e+00   9.003891e+01      84.320348  2.497598e+03  6.139031e+00   \n",
       "min    1.992000e+03   1.000000e+00       1.000000  1.000000e-05  1.793972e+01   \n",
       "25%    1.998000e+03   8.900000e+01     102.000000  1.000000e-01  3.281860e+01   \n",
       "50%    2.004000e+03   1.640000e+02     181.000000  1.000000e+00  3.545250e+01   \n",
       "75%    2.009000e+03   2.300000e+02     232.000000  3.300000e+00  4.082720e+01   \n",
       "max    2.015000e+03   3.660000e+02     366.000000  6.069450e+05  7.033060e+01   \n",
       "\n",
       "          LONGITUDE  \n",
       "count  1.880465e+06  \n",
       "mean  -9.570494e+01  \n",
       "std    1.671694e+01  \n",
       "min   -1.788026e+02  \n",
       "25%   -1.103635e+02  \n",
       "50%   -9.204304e+01  \n",
       "75%   -8.229760e+01  \n",
       "max   -6.525694e+01  "
      ]
     },
     "execution_count": 7,
     "metadata": {},
     "output_type": "execute_result"
    }
   ],
   "source": [
    "df.describe()"
   ]
  },
  {
   "cell_type": "code",
   "execution_count": 15,
   "metadata": {
    "scrolled": true
   },
   "outputs": [
    {
     "name": "stdout",
     "output_type": "stream",
     "text": [
      "<class 'pandas.core.frame.DataFrame'>\n",
      "RangeIndex: 1880465 entries, 0 to 1880464\n",
      "Data columns (total 12 columns):\n",
      " #   Column            Dtype         \n",
      "---  ------            -----         \n",
      " 0   FIRE_YEAR         int64         \n",
      " 1   DISCOVERY_DATE    datetime64[ns]\n",
      " 2   DISCOVERY_DOY     int64         \n",
      " 3   DISCOVERY_TIME    object        \n",
      " 4   STAT_CAUSE_DESCR  object        \n",
      " 5   CONT_DATE         datetime64[ns]\n",
      " 6   CONT_DOY          float64       \n",
      " 7   CONT_TIME         object        \n",
      " 8   FIRE_SIZE         float64       \n",
      " 9   LATITUDE          float64       \n",
      " 10  LONGITUDE         float64       \n",
      " 11  STATE             object        \n",
      "dtypes: datetime64[ns](2), float64(4), int64(2), object(4)\n",
      "memory usage: 172.2+ MB\n"
     ]
    }
   ],
   "source": [
    "df.info()"
   ]
  },
  {
   "cell_type": "code",
   "execution_count": 16,
   "metadata": {},
   "outputs": [
    {
     "data": {
      "text/plain": [
       "FIRE_YEAR                0\n",
       "DISCOVERY_DATE           0\n",
       "DISCOVERY_DOY            0\n",
       "DISCOVERY_TIME      882638\n",
       "STAT_CAUSE_DESCR         0\n",
       "CONT_DATE           891531\n",
       "CONT_DOY            891531\n",
       "CONT_TIME           972173\n",
       "FIRE_SIZE                0\n",
       "LATITUDE                 0\n",
       "LONGITUDE                0\n",
       "STATE                    0\n",
       "dtype: int64"
      ]
     },
     "execution_count": 16,
     "metadata": {},
     "output_type": "execute_result"
    }
   ],
   "source": [
    "df.isna().sum()"
   ]
  },
  {
   "cell_type": "code",
   "execution_count": 8,
   "metadata": {},
   "outputs": [
    {
     "data": {
      "text/plain": [
       "count    1.880465e+06\n",
       "mean     2.003710e+03\n",
       "std      6.663099e+00\n",
       "min      1.992000e+03\n",
       "25%      1.998000e+03\n",
       "50%      2.004000e+03\n",
       "75%      2.009000e+03\n",
       "max      2.015000e+03\n",
       "Name: FIRE_YEAR, dtype: float64"
      ]
     },
     "execution_count": 8,
     "metadata": {},
     "output_type": "execute_result"
    }
   ],
   "source": [
    "df[\"FIRE_YEAR\"].describe()"
   ]
  },
  {
   "cell_type": "code",
   "execution_count": 9,
   "metadata": {
    "scrolled": true
   },
   "outputs": [
    {
     "data": {
      "text/plain": [
       "count            1880465\n",
       "unique                13\n",
       "top       Debris Burning\n",
       "freq              429028\n",
       "Name: STAT_CAUSE_DESCR, dtype: object"
      ]
     },
     "execution_count": 9,
     "metadata": {},
     "output_type": "execute_result"
    }
   ],
   "source": [
    "df[\"STAT_CAUSE_DESCR\"].describe()"
   ]
  },
  {
   "cell_type": "code",
   "execution_count": 10,
   "metadata": {
    "scrolled": false
   },
   "outputs": [
    {
     "data": {
      "image/png": "[encoded data removed]",
      "text/plain": [
       "<Figure size 432x288 with 1 Axes>"
      ]
     },
     "metadata": {
      "needs_background": "light"
     },
     "output_type": "display_data"
    }
   ],
   "source": [
    "df.plot(kind='scatter',x='LONGITUDE',y='LATITUDE',color='coral',alpha=0.3)\n",
    "plt.show()"
   ]
  }
 ],
 "metadata": {
  "kernelspec": {
   "display_name": "Python 3",
   "language": "python",
   "name": "python3"
  },
  "language_info": {
   "codemirror_mode": {
    "name": "ipython",
    "version": 3
   },
   "file_extension": ".py",
   "mimetype": "text/x-python",
   "name": "python",
   "nbconvert_exporter": "python",
   "pygments_lexer": "ipython3",
   "version": "3.7.3"
  }
 },
 "nbformat": 4,
 "nbformat_minor": 4
}
